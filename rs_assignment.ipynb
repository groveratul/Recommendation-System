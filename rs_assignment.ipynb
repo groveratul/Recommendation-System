{
  "nbformat": 4,
  "nbformat_minor": 0,
  "metadata": {
    "kernelspec": {
      "display_name": "Python 3",
      "language": "python",
      "name": "python3"
    },
    "language_info": {
      "codemirror_mode": {
        "name": "ipython",
        "version": 2
      },
      "file_extension": ".py",
      "mimetype": "text/x-python",
      "name": "python",
      "nbconvert_exporter": "python",
      "pygments_lexer": "ipython2",
      "version": "2.7.12"
    },
    "colab": {
      "name": "rs_assignment.ipynb",
      "provenance": [],
      "collapsed_sections": [],
      "toc_visible": true,
      "include_colab_link": true
    }
  },
  "cells": [
    {
      "cell_type": "markdown",
      "metadata": {
        "id": "view-in-github",
        "colab_type": "text"
      },
      "source": [
        "<a href=\"https://colab.research.google.com/github/groveratul/Recommendation-System/blob/master/rs_assignment.ipynb\" target=\"_parent\"><img src=\"https://colab.research.google.com/assets/colab-badge.svg\" alt=\"Open In Colab\"/></a>"
      ]
    },
    {
      "cell_type": "markdown",
      "metadata": {
        "id": "dAQpYjPVzdsw",
        "colab_type": "text"
      },
      "source": [
        "# Recommendation Systems"
      ]
    },
    {
      "cell_type": "markdown",
      "metadata": {
        "id": "T8rWqpOEzdsz",
        "colab_type": "text"
      },
      "source": [
        "### Getting MovieLens data"
      ]
    },
    {
      "cell_type": "markdown",
      "metadata": {
        "id": "PQaV4DkBzds0",
        "colab_type": "text"
      },
      "source": [
        "* Download the movielens 100k dataset from this link: [ml-100k.zip](http://files.grouplens.org/datasets/movielens/ml-100k.zip)\n",
        "\n",
        "* Upload ml-100k.zip\n",
        "\n"
      ]
    },
    {
      "cell_type": "markdown",
      "metadata": {
        "id": "R9dHQTK1zds1",
        "colab_type": "text"
      },
      "source": [
        "### Imports"
      ]
    },
    {
      "cell_type": "code",
      "metadata": {
        "id": "xncf3xm1zds2",
        "colab_type": "code",
        "outputId": "356bcfb1-77e3-4464-be3e-8c6fc2e22261",
        "colab": {
          "base_uri": "https://localhost:8080/",
          "height": 34
        }
      },
      "source": [
        "# import required libraries\n",
        "!pip install wget\n",
        "import os\n",
        "import os.path\n",
        "import numpy as np\n",
        "import pandas as pd\n",
        "from math import sqrt\n",
        "from heapq import nlargest\n",
        "from sklearn.model_selection import train_test_split\n",
        "from tqdm import trange\n",
        "from tqdm import tqdm\n",
        "from scipy import stats\n",
        "from sklearn.metrics.pairwise import pairwise_distances\n",
        "from sklearn.metrics import mean_squared_error\n",
        "import wget\n",
        "import scipy\n",
        "import matplotlib.pyplot as plt"
      ],
      "execution_count": 0,
      "outputs": [
        {
          "output_type": "stream",
          "text": [
            "Requirement already satisfied: wget in /usr/local/lib/python3.6/dist-packages (3.2)\n"
          ],
          "name": "stdout"
        }
      ]
    },
    {
      "cell_type": "markdown",
      "metadata": {
        "id": "F1ill6yOzds5",
        "colab_type": "text"
      },
      "source": [
        "## Support functions and variables"
      ]
    },
    {
      "cell_type": "code",
      "metadata": {
        "id": "lNbQGMevzds8",
        "colab_type": "code",
        "outputId": "28d29a64-53b3-4a52-fe59-ec1ab663dda1",
        "colab": {
          "base_uri": "https://localhost:8080/",
          "height": 51
        }
      },
      "source": [
        "wget.download(\"https://github.com/MIE451-1513-2019/course-datasets/raw/master/ml-100k.zip\")\n",
        "!unzip ml-100k.zip\n",
        "MOVIELENS_DIR = \"ml-100k\""
      ],
      "execution_count": 0,
      "outputs": [
        {
          "output_type": "stream",
          "text": [
            "Archive:  ml-100k.zip\n",
            "replace ml-100k/allbut.pl? [y]es, [n]o, [A]ll, [N]one, [r]ename: "
          ],
          "name": "stdout"
        }
      ]
    },
    {
      "cell_type": "code",
      "metadata": {
        "id": "emOWqsTGzdtB",
        "colab_type": "code",
        "outputId": "dc8ddc3e-7677-45d1-bb06-038b4d0a7b83",
        "colab": {
          "base_uri": "https://localhost:8080/",
          "height": 68
        }
      },
      "source": [
        "!ls {MOVIELENS_DIR}"
      ],
      "execution_count": 0,
      "outputs": [
        {
          "output_type": "stream",
          "text": [
            "allbut.pl  u1.base  u2.test  u4.base  u5.test  ub.base\tu.genre  u.occupation\n",
            "mku.sh\t   u1.test  u3.base  u4.test  ua.base  ub.test\tu.info\t u.user\n",
            "README\t   u2.base  u3.test  u5.base  ua.test  u.data\tu.item\n"
          ],
          "name": "stdout"
        }
      ]
    },
    {
      "cell_type": "code",
      "metadata": {
        "id": "3k0-kPF7zdtE",
        "colab_type": "code",
        "colab": {}
      },
      "source": [
        "def getData(folder_path, file_name):\n",
        "    fields = ['userID', 'itemID', 'rating', 'timestamp']\n",
        "    data = pd.read_csv(os.path.join(folder_path, file_name), sep='\\t', names=fields)\n",
        "    return data "
      ],
      "execution_count": 0,
      "outputs": []
    },
    {
      "cell_type": "code",
      "metadata": {
        "id": "nvqWuW5NzdtI",
        "colab_type": "code",
        "colab": {}
      },
      "source": [
        "rating_df = getData(MOVIELENS_DIR, 'u.data')"
      ],
      "execution_count": 0,
      "outputs": []
    },
    {
      "cell_type": "code",
      "metadata": {
        "id": "5RPCAd--22MQ",
        "colab_type": "code",
        "outputId": "e0ab9a3b-1af8-4fad-d310-5894f5bf3cbe",
        "colab": {
          "base_uri": "https://localhost:8080/",
          "height": 204
        }
      },
      "source": [
        "rating_df.head()"
      ],
      "execution_count": 0,
      "outputs": [
        {
          "output_type": "execute_result",
          "data": {
            "text/html": [
              "<div>\n",
              "<style scoped>\n",
              "    .dataframe tbody tr th:only-of-type {\n",
              "        vertical-align: middle;\n",
              "    }\n",
              "\n",
              "    .dataframe tbody tr th {\n",
              "        vertical-align: top;\n",
              "    }\n",
              "\n",
              "    .dataframe thead th {\n",
              "        text-align: right;\n",
              "    }\n",
              "</style>\n",
              "<table border=\"1\" class=\"dataframe\">\n",
              "  <thead>\n",
              "    <tr style=\"text-align: right;\">\n",
              "      <th></th>\n",
              "      <th>userID</th>\n",
              "      <th>itemID</th>\n",
              "      <th>rating</th>\n",
              "      <th>timestamp</th>\n",
              "    </tr>\n",
              "  </thead>\n",
              "  <tbody>\n",
              "    <tr>\n",
              "      <th>0</th>\n",
              "      <td>196</td>\n",
              "      <td>242</td>\n",
              "      <td>3</td>\n",
              "      <td>881250949</td>\n",
              "    </tr>\n",
              "    <tr>\n",
              "      <th>1</th>\n",
              "      <td>186</td>\n",
              "      <td>302</td>\n",
              "      <td>3</td>\n",
              "      <td>891717742</td>\n",
              "    </tr>\n",
              "    <tr>\n",
              "      <th>2</th>\n",
              "      <td>22</td>\n",
              "      <td>377</td>\n",
              "      <td>1</td>\n",
              "      <td>878887116</td>\n",
              "    </tr>\n",
              "    <tr>\n",
              "      <th>3</th>\n",
              "      <td>244</td>\n",
              "      <td>51</td>\n",
              "      <td>2</td>\n",
              "      <td>880606923</td>\n",
              "    </tr>\n",
              "    <tr>\n",
              "      <th>4</th>\n",
              "      <td>166</td>\n",
              "      <td>346</td>\n",
              "      <td>1</td>\n",
              "      <td>886397596</td>\n",
              "    </tr>\n",
              "  </tbody>\n",
              "</table>\n",
              "</div>"
            ],
            "text/plain": [
              "   userID  itemID  rating  timestamp\n",
              "0     196     242       3  881250949\n",
              "1     186     302       3  891717742\n",
              "2      22     377       1  878887116\n",
              "3     244      51       2  880606923\n",
              "4     166     346       1  886397596"
            ]
          },
          "metadata": {
            "tags": []
          },
          "execution_count": 22
        }
      ]
    },
    {
      "cell_type": "code",
      "metadata": {
        "id": "SpmN2NrTzdtK",
        "colab_type": "code",
        "outputId": "ba313112-191e-4198-9c18-c5c9e24de8fd",
        "colab": {
          "base_uri": "https://localhost:8080/",
          "height": 51
        }
      },
      "source": [
        "num_users = len(rating_df.userID.unique())\n",
        "num_items = len(rating_df.itemID.unique())\n",
        "print(\"Number of users:\", num_users)\n",
        "print(\"Number of items:\", num_items)"
      ],
      "execution_count": 0,
      "outputs": [
        {
          "output_type": "stream",
          "text": [
            "Number of users: 943\n",
            "Number of items: 1682\n"
          ],
          "name": "stdout"
        }
      ]
    },
    {
      "cell_type": "code",
      "metadata": {
        "id": "FiiG_0QfzdtP",
        "colab_type": "code",
        "colab": {}
      },
      "source": [
        "def dataPreprocessor(rating_df, num_users, num_items):\n",
        "    \n",
        "    matrix = np.zeros((num_users, num_items), dtype=np.int8)\n",
        "    \n",
        " \n",
        "    for (index, userID, itemID, rating, timestamp) in rating_df.itertuples():\n",
        "        matrix[userID-1, itemID-1] = rating\n",
        "   \n",
        "    return matrix"
      ],
      "execution_count": 0,
      "outputs": []
    },
    {
      "cell_type": "code",
      "metadata": {
        "id": "f6DxbgBmzdtS",
        "colab_type": "code",
        "outputId": "ba84e7f0-65d0-4d69-f58d-41ded7a46a46",
        "colab": {
          "base_uri": "https://localhost:8080/",
          "height": 136
        }
      },
      "source": [
        "dataPreprocessor(rating_df, num_users, num_items)"
      ],
      "execution_count": 0,
      "outputs": [
        {
          "output_type": "execute_result",
          "data": {
            "text/plain": [
              "array([[5, 3, 4, ..., 0, 0, 0],\n",
              "       [4, 0, 0, ..., 0, 0, 0],\n",
              "       [0, 0, 0, ..., 0, 0, 0],\n",
              "       ...,\n",
              "       [5, 0, 0, ..., 0, 0, 0],\n",
              "       [0, 0, 0, ..., 0, 0, 0],\n",
              "       [0, 5, 0, ..., 0, 0, 0]], dtype=int8)"
            ]
          },
          "metadata": {
            "tags": []
          },
          "execution_count": 25
        }
      ]
    },
    {
      "cell_type": "code",
      "metadata": {
        "id": "z9AkrRvUzdtV",
        "colab_type": "code",
        "colab": {}
      },
      "source": [
        "class BaseLineRecSys(object):\n",
        "    def __init__(self, method, processor=dataPreprocessor):\n",
        "        \"\"\"\n",
        "            method: string. From ['popularity','useraverage']\n",
        "            processor: function name. dataPreprocessor by default\n",
        "        \"\"\"\n",
        "        self.method_name = method\n",
        "        self.method = self._getMethod(self.method_name)\n",
        "        self.processor = processor\n",
        "        self.pred_column_name = self.method_name\n",
        "        \n",
        "    def _getMethod(self, method_name):\n",
        "        \"\"\"\n",
        "            Don't change this\n",
        "        \"\"\"\n",
        "        switcher = {\n",
        "            'popularity': self.popularity,\n",
        "            'useraverage': self.useraverage,\n",
        "        }\n",
        "        \n",
        "        return switcher[method_name]\n",
        "    \n",
        "    @staticmethod\n",
        "    def useraverage(train_matrix, num_users, num_items):\n",
        "       \n",
        "        \n",
        "        predictionMatrix = np.zeros((num_users, num_items))\n",
        "       \n",
        "        for (user,item), rating in np.ndenumerate(train_matrix):\n",
        "        \n",
        "          if rating == 0:\n",
        "             \n",
        "              userVector = train_matrix[user, :]\n",
        "              \n",
        "              \n",
        "              ratedItems = userVector[userVector.nonzero()]\n",
        "              \n",
        "              if ratedItems.size == 0:\n",
        "                  itemAvg = 0\n",
        "              else:\n",
        "                  itemAvg = ratedItems.mean()\n",
        "              predictionMatrix[user, item] = itemAvg\n",
        "              \n",
        "          \n",
        "          if (user % 100 == 0 and item == 1):\n",
        "              print (\"calculated %d users\" % (user,))\n",
        "\n",
        "\n",
        "        \n",
        "        return predictionMatrix\n",
        "    \n",
        "    @staticmethod\n",
        "    def popularity(train_matrix, num_users, num_items):\n",
        "        \n",
        "        \n",
        "        predictionMatrix = np.zeros((num_users, num_items))\n",
        "        \n",
        "        vf = np.vectorize(lambda x: 1 if x >= 4 else 0)\n",
        "   \n",
        "        itemPopularity = np.zeros((num_items))\n",
        "        for item in range(num_items):\n",
        "            numOfUsersRated = len(train_matrix[:, item].nonzero()[0])\n",
        "            numOfUsersLiked = len(vf(train_matrix[:, item]).nonzero()[0])\n",
        "            if numOfUsersRated == 0:\n",
        "                itemPopularity[item] = 0\n",
        "            else:\n",
        "                itemPopularity[item] = numOfUsersLiked/numOfUsersRated\n",
        "        \n",
        "        for (user,item), rating in np.ndenumerate(train_matrix):\n",
        "            # Predict rating for every item that wasn't ranked by the user (rating == 0)\n",
        "            if rating == 0:\n",
        "                predictionMatrix[user, item] = itemPopularity[item]\n",
        "                \n",
        "            # report progress every 100 users\n",
        "            if (user % 100 == 0 and item == 1):\n",
        "                print (\"calculated %d users\" % (user,))\n",
        "              \n",
        "       \n",
        "        return predictionMatrix    \n",
        "    \n",
        "    def predict_all(self, train_df, num_users, num_items):\n",
        "        \n",
        "        train_matrix = self.processor(train_df, num_users, num_items)\n",
        "        self.__model = self.method(train_matrix, num_users, num_items)\n",
        "        \n",
        "    def evaluate_test(self, test_df, copy=False):\n",
        "        \n",
        "        if copy:\n",
        "            prediction = test_df.copy()\n",
        "        else:\n",
        "            prediction = test_df\n",
        "        prediction[self.pred_column_name] = np.nan\n",
        "\n",
        "        for (index, \n",
        "             userID, \n",
        "             itemID) in tqdm(prediction[['userID','itemID']].itertuples()):\n",
        "            prediction.loc[index, self.pred_column_name] = self.__model[userID-1, itemID-1]\n",
        "            \n",
        "        return prediction\n",
        "        \n",
        "    def getModel(self):\n",
        "       \n",
        "        return self.__model\n",
        "    \n",
        "    def getPredColName(self):\n",
        "        \n",
        "        return self.pred_column_name\n",
        "    \n",
        "    def reset(self):\n",
        "        \n",
        "        try:\n",
        "            self.model = None\n",
        "        except:\n",
        "            print(\"You don not have model..\")\n",
        "            "
      ],
      "execution_count": 0,
      "outputs": []
    },
    {
      "cell_type": "code",
      "metadata": {
        "id": "XgDw3ALnzdtX",
        "colab_type": "code",
        "colab": {}
      },
      "source": [
        "popularity_recsys = BaseLineRecSys('popularity')"
      ],
      "execution_count": 0,
      "outputs": []
    },
    {
      "cell_type": "code",
      "metadata": {
        "id": "wJd50FSdzdta",
        "colab_type": "code",
        "outputId": "5782e664-8601-4448-ebd5-7d4fea8ff7a1",
        "colab": {
          "base_uri": "https://localhost:8080/",
          "height": 187
        }
      },
      "source": [
        "popularity_recsys.predict_all(rating_df, num_users, num_items)"
      ],
      "execution_count": 0,
      "outputs": [
        {
          "output_type": "stream",
          "text": [
            "calculated 0 users\n",
            "calculated 100 users\n",
            "calculated 200 users\n",
            "calculated 300 users\n",
            "calculated 400 users\n",
            "calculated 500 users\n",
            "calculated 600 users\n",
            "calculated 700 users\n",
            "calculated 800 users\n",
            "calculated 900 users\n"
          ],
          "name": "stdout"
        }
      ]
    },
    {
      "cell_type": "code",
      "metadata": {
        "id": "C5TJkUaszdtc",
        "colab_type": "code",
        "colab": {}
      },
      "source": [
        "x = popularity_recsys.getModel()"
      ],
      "execution_count": 0,
      "outputs": []
    },
    {
      "cell_type": "code",
      "metadata": {
        "id": "HN8r3Obtzdtg",
        "colab_type": "code",
        "outputId": "ee5ad756-1ebb-4fee-9b95-a37036e485ac",
        "colab": {
          "base_uri": "https://localhost:8080/",
          "height": 34
        }
      },
      "source": [
        "np.all(x<=1)"
      ],
      "execution_count": 0,
      "outputs": [
        {
          "output_type": "execute_result",
          "data": {
            "text/plain": [
              "True"
            ]
          },
          "metadata": {
            "tags": []
          },
          "execution_count": 30
        }
      ]
    },
    {
      "cell_type": "code",
      "metadata": {
        "id": "oZDsDg5Gzdtj",
        "colab_type": "code",
        "outputId": "85efd427-5d43-4b6d-b650-9d6a828b2925",
        "colab": {
          "base_uri": "https://localhost:8080/",
          "height": 204
        }
      },
      "source": [
        "rating_df.head()"
      ],
      "execution_count": 0,
      "outputs": [
        {
          "output_type": "execute_result",
          "data": {
            "text/html": [
              "<div>\n",
              "<style scoped>\n",
              "    .dataframe tbody tr th:only-of-type {\n",
              "        vertical-align: middle;\n",
              "    }\n",
              "\n",
              "    .dataframe tbody tr th {\n",
              "        vertical-align: top;\n",
              "    }\n",
              "\n",
              "    .dataframe thead th {\n",
              "        text-align: right;\n",
              "    }\n",
              "</style>\n",
              "<table border=\"1\" class=\"dataframe\">\n",
              "  <thead>\n",
              "    <tr style=\"text-align: right;\">\n",
              "      <th></th>\n",
              "      <th>userID</th>\n",
              "      <th>itemID</th>\n",
              "      <th>rating</th>\n",
              "      <th>timestamp</th>\n",
              "    </tr>\n",
              "  </thead>\n",
              "  <tbody>\n",
              "    <tr>\n",
              "      <th>0</th>\n",
              "      <td>196</td>\n",
              "      <td>242</td>\n",
              "      <td>3</td>\n",
              "      <td>881250949</td>\n",
              "    </tr>\n",
              "    <tr>\n",
              "      <th>1</th>\n",
              "      <td>186</td>\n",
              "      <td>302</td>\n",
              "      <td>3</td>\n",
              "      <td>891717742</td>\n",
              "    </tr>\n",
              "    <tr>\n",
              "      <th>2</th>\n",
              "      <td>22</td>\n",
              "      <td>377</td>\n",
              "      <td>1</td>\n",
              "      <td>878887116</td>\n",
              "    </tr>\n",
              "    <tr>\n",
              "      <th>3</th>\n",
              "      <td>244</td>\n",
              "      <td>51</td>\n",
              "      <td>2</td>\n",
              "      <td>880606923</td>\n",
              "    </tr>\n",
              "    <tr>\n",
              "      <th>4</th>\n",
              "      <td>166</td>\n",
              "      <td>346</td>\n",
              "      <td>1</td>\n",
              "      <td>886397596</td>\n",
              "    </tr>\n",
              "  </tbody>\n",
              "</table>\n",
              "</div>"
            ],
            "text/plain": [
              "   userID  itemID  rating  timestamp\n",
              "0     196     242       3  881250949\n",
              "1     186     302       3  891717742\n",
              "2      22     377       1  878887116\n",
              "3     244      51       2  880606923\n",
              "4     166     346       1  886397596"
            ]
          },
          "metadata": {
            "tags": []
          },
          "execution_count": 31
        }
      ]
    },
    {
      "cell_type": "code",
      "metadata": {
        "id": "p60BEmn-zdtm",
        "colab_type": "code",
        "outputId": "d875d967-6c45-4070-e9f1-d5c07bc7ee22",
        "colab": {
          "base_uri": "https://localhost:8080/",
          "height": 221
        }
      },
      "source": [
        "popularity_recsys.evaluate_test(rating_df,copy=True).head()"
      ],
      "execution_count": 0,
      "outputs": [
        {
          "output_type": "stream",
          "text": [
            "100000it [02:07, 785.50it/s]\n"
          ],
          "name": "stderr"
        },
        {
          "output_type": "execute_result",
          "data": {
            "text/html": [
              "<div>\n",
              "<style scoped>\n",
              "    .dataframe tbody tr th:only-of-type {\n",
              "        vertical-align: middle;\n",
              "    }\n",
              "\n",
              "    .dataframe tbody tr th {\n",
              "        vertical-align: top;\n",
              "    }\n",
              "\n",
              "    .dataframe thead th {\n",
              "        text-align: right;\n",
              "    }\n",
              "</style>\n",
              "<table border=\"1\" class=\"dataframe\">\n",
              "  <thead>\n",
              "    <tr style=\"text-align: right;\">\n",
              "      <th></th>\n",
              "      <th>userID</th>\n",
              "      <th>itemID</th>\n",
              "      <th>rating</th>\n",
              "      <th>timestamp</th>\n",
              "      <th>popularity</th>\n",
              "    </tr>\n",
              "  </thead>\n",
              "  <tbody>\n",
              "    <tr>\n",
              "      <th>0</th>\n",
              "      <td>196</td>\n",
              "      <td>242</td>\n",
              "      <td>3</td>\n",
              "      <td>881250949</td>\n",
              "      <td>0.0</td>\n",
              "    </tr>\n",
              "    <tr>\n",
              "      <th>1</th>\n",
              "      <td>186</td>\n",
              "      <td>302</td>\n",
              "      <td>3</td>\n",
              "      <td>891717742</td>\n",
              "      <td>0.0</td>\n",
              "    </tr>\n",
              "    <tr>\n",
              "      <th>2</th>\n",
              "      <td>22</td>\n",
              "      <td>377</td>\n",
              "      <td>1</td>\n",
              "      <td>878887116</td>\n",
              "      <td>0.0</td>\n",
              "    </tr>\n",
              "    <tr>\n",
              "      <th>3</th>\n",
              "      <td>244</td>\n",
              "      <td>51</td>\n",
              "      <td>2</td>\n",
              "      <td>880606923</td>\n",
              "      <td>0.0</td>\n",
              "    </tr>\n",
              "    <tr>\n",
              "      <th>4</th>\n",
              "      <td>166</td>\n",
              "      <td>346</td>\n",
              "      <td>1</td>\n",
              "      <td>886397596</td>\n",
              "      <td>0.0</td>\n",
              "    </tr>\n",
              "  </tbody>\n",
              "</table>\n",
              "</div>"
            ],
            "text/plain": [
              "   userID  itemID  rating  timestamp  popularity\n",
              "0     196     242       3  881250949         0.0\n",
              "1     186     302       3  891717742         0.0\n",
              "2      22     377       1  878887116         0.0\n",
              "3     244      51       2  880606923         0.0\n",
              "4     166     346       1  886397596         0.0"
            ]
          },
          "metadata": {
            "tags": []
          },
          "execution_count": 32
        }
      ]
    },
    {
      "cell_type": "code",
      "metadata": {
        "id": "xDu_THj3zdtp",
        "colab_type": "code",
        "colab": {}
      },
      "source": [
        "average_user_rating_recsys = BaseLineRecSys('useraverage')"
      ],
      "execution_count": 0,
      "outputs": []
    },
    {
      "cell_type": "code",
      "metadata": {
        "id": "gQWmspQGzdtr",
        "colab_type": "code",
        "outputId": "8d8fab9e-b49f-4afb-db0e-1318749d868d",
        "colab": {
          "base_uri": "https://localhost:8080/",
          "height": 187
        }
      },
      "source": [
        "average_user_rating_recsys.predict_all(rating_df, num_users, num_items)"
      ],
      "execution_count": 0,
      "outputs": [
        {
          "output_type": "stream",
          "text": [
            "calculated 0 users\n",
            "calculated 100 users\n",
            "calculated 200 users\n",
            "calculated 300 users\n",
            "calculated 400 users\n",
            "calculated 500 users\n",
            "calculated 600 users\n",
            "calculated 700 users\n",
            "calculated 800 users\n",
            "calculated 900 users\n"
          ],
          "name": "stdout"
        }
      ]
    },
    {
      "cell_type": "code",
      "metadata": {
        "id": "yl8uLyIqzdty",
        "colab_type": "code",
        "outputId": "a4dc7af0-02c1-4ba5-faab-d2fa04a89c5a",
        "colab": {
          "base_uri": "https://localhost:8080/",
          "height": 238
        }
      },
      "source": [
        "average_user_rating_recsys.getModel()"
      ],
      "execution_count": 0,
      "outputs": [
        {
          "output_type": "execute_result",
          "data": {
            "text/plain": [
              "array([[0.        , 0.        , 0.        , ..., 3.61029412, 3.61029412,\n",
              "        3.61029412],\n",
              "       [0.        , 3.70967742, 3.70967742, ..., 3.70967742, 3.70967742,\n",
              "        3.70967742],\n",
              "       [2.7962963 , 2.7962963 , 2.7962963 , ..., 2.7962963 , 2.7962963 ,\n",
              "        2.7962963 ],\n",
              "       ...,\n",
              "       [0.        , 4.04545455, 4.04545455, ..., 4.04545455, 4.04545455,\n",
              "        4.04545455],\n",
              "       [4.26582278, 4.26582278, 4.26582278, ..., 4.26582278, 4.26582278,\n",
              "        4.26582278],\n",
              "       [3.41071429, 0.        , 3.41071429, ..., 3.41071429, 3.41071429,\n",
              "        3.41071429]])"
            ]
          },
          "metadata": {
            "tags": []
          },
          "execution_count": 35
        }
      ]
    },
    {
      "cell_type": "code",
      "metadata": {
        "id": "arSCkkxozdt4",
        "colab_type": "code",
        "outputId": "c84a59ab-b6ab-4609-9bb6-5afca445294d",
        "colab": {
          "base_uri": "https://localhost:8080/",
          "height": 221
        }
      },
      "source": [
        "average_user_rating_recsys.evaluate_test(rating_df,copy=True).head()"
      ],
      "execution_count": 0,
      "outputs": [
        {
          "output_type": "stream",
          "text": [
            "100000it [01:59, 837.32it/s]\n"
          ],
          "name": "stderr"
        },
        {
          "output_type": "execute_result",
          "data": {
            "text/html": [
              "<div>\n",
              "<style scoped>\n",
              "    .dataframe tbody tr th:only-of-type {\n",
              "        vertical-align: middle;\n",
              "    }\n",
              "\n",
              "    .dataframe tbody tr th {\n",
              "        vertical-align: top;\n",
              "    }\n",
              "\n",
              "    .dataframe thead th {\n",
              "        text-align: right;\n",
              "    }\n",
              "</style>\n",
              "<table border=\"1\" class=\"dataframe\">\n",
              "  <thead>\n",
              "    <tr style=\"text-align: right;\">\n",
              "      <th></th>\n",
              "      <th>userID</th>\n",
              "      <th>itemID</th>\n",
              "      <th>rating</th>\n",
              "      <th>timestamp</th>\n",
              "      <th>useraverage</th>\n",
              "    </tr>\n",
              "  </thead>\n",
              "  <tbody>\n",
              "    <tr>\n",
              "      <th>0</th>\n",
              "      <td>196</td>\n",
              "      <td>242</td>\n",
              "      <td>3</td>\n",
              "      <td>881250949</td>\n",
              "      <td>0.0</td>\n",
              "    </tr>\n",
              "    <tr>\n",
              "      <th>1</th>\n",
              "      <td>186</td>\n",
              "      <td>302</td>\n",
              "      <td>3</td>\n",
              "      <td>891717742</td>\n",
              "      <td>0.0</td>\n",
              "    </tr>\n",
              "    <tr>\n",
              "      <th>2</th>\n",
              "      <td>22</td>\n",
              "      <td>377</td>\n",
              "      <td>1</td>\n",
              "      <td>878887116</td>\n",
              "      <td>0.0</td>\n",
              "    </tr>\n",
              "    <tr>\n",
              "      <th>3</th>\n",
              "      <td>244</td>\n",
              "      <td>51</td>\n",
              "      <td>2</td>\n",
              "      <td>880606923</td>\n",
              "      <td>0.0</td>\n",
              "    </tr>\n",
              "    <tr>\n",
              "      <th>4</th>\n",
              "      <td>166</td>\n",
              "      <td>346</td>\n",
              "      <td>1</td>\n",
              "      <td>886397596</td>\n",
              "      <td>0.0</td>\n",
              "    </tr>\n",
              "  </tbody>\n",
              "</table>\n",
              "</div>"
            ],
            "text/plain": [
              "   userID  itemID  rating  timestamp  useraverage\n",
              "0     196     242       3  881250949          0.0\n",
              "1     186     302       3  891717742          0.0\n",
              "2      22     377       1  878887116          0.0\n",
              "3     244      51       2  880606923          0.0\n",
              "4     166     346       1  886397596          0.0"
            ]
          },
          "metadata": {
            "tags": []
          },
          "execution_count": 36
        }
      ]
    },
    {
      "cell_type": "markdown",
      "metadata": {
        "id": "V8bnTOYNyQrZ",
        "colab_type": "text"
      },
      "source": [
        "https://stats.stackexchange.com/questions/158279/how-i-can-convert-distance-euclidean-to-similarity-score"
      ]
    },
    {
      "cell_type": "code",
      "metadata": {
        "id": "GEQ_IkS3zdt8",
        "colab_type": "code",
        "colab": {}
      },
      "source": [
        "class SimBasedRecSys(object):\n",
        "\n",
        "    def __init__(self, base, method, processor=dataPreprocessor):\n",
        "        \n",
        "        self.base = base\n",
        "        self.method_name = method\n",
        "        self.method = self._getMethod(self.method_name)\n",
        "        self.processor = processor\n",
        "        self.pred_column_name = self.base+'-'+self.method_name\n",
        "    \n",
        "    def _getMethod(self, method_name):\n",
        "        \n",
        "        switcher = {\n",
        "            'cosine': self.cosine,\n",
        "            'euclidean': self.euclidean,\n",
        "            'somethingelse': self.somethingelse,\n",
        "        }\n",
        "        \n",
        "        return switcher[method_name]\n",
        "    \n",
        "    @staticmethod\n",
        "    def cosine(matrix):\n",
        "        \n",
        "        similarity_matrix = 1 - pairwise_distances(matrix, metric='cosine')\n",
        "        return similarity_matrix\n",
        "    \n",
        "    @staticmethod\n",
        "    def euclidean(matrix):\n",
        "        \n",
        "        similarity_matrix = 1  / (pairwise_distances(matrix,metric='euclidean') + 1)\n",
        "        \n",
        "    \n",
        "        \n",
        "        return similarity_matrix\n",
        "    \n",
        "    @staticmethod\n",
        "    def somethingelse(matrix):\n",
        "        \n",
        "        similarity_matrix = 1 / (pairwise_distances(matrix,metric='manhattan') + 1)\n",
        "    \n",
        "\n",
        "    \n",
        "    \n",
        "           \n",
        "        return similarity_matrix\n",
        "        \n",
        "    def predict_all(self, train_df, num_users, num_items):\n",
        "        \n",
        "        train_matrix = self.processor(train_df, num_users, num_items)\n",
        "        \n",
        "        if self.base == 'user':\n",
        "            temp_matrix = np.zeros(train_matrix.shape)\n",
        "            temp_matrix[train_matrix.nonzero()] = 1\n",
        "            uu_similarity = self.method(train_matrix)\n",
        "            normalizer = np.matmul(uu_similarity, temp_matrix)\n",
        "            normalizer[normalizer == 0] = 1e-5\n",
        "            \n",
        "            predictionMatrix = np.matmul(uu_similarity, train_matrix)/normalizer\n",
        "            \n",
        "            useraverage = np.sum(train_matrix, axis=1)/(np.sum(temp_matrix, axis=1) + 1e-5)\n",
        "            columns = np.sum(predictionMatrix, axis=0)\n",
        "            \n",
        "            predictionMatrix[:, columns==0] = predictionMatrix[:, columns==0] + np.expand_dims(useraverage, axis=1)\n",
        "            self.__model = predictionMatrix\n",
        "           \n",
        "            \n",
        "        elif self.base == 'item':\n",
        "            \n",
        "            train_matrix=train_matrix.transpose()\n",
        "            temp_matrix = np.zeros(train_matrix.shape)\n",
        "            temp_matrix[train_matrix.nonzero()] = 1\n",
        "            item_similarity = self.method(train_matrix)\n",
        "            normalizer = np.matmul(item_similarity, temp_matrix)\n",
        "            normalizer[normalizer == 0] = 1e-5\n",
        "            \n",
        "            predictionMatrix = np.matmul(item_similarity, train_matrix)/normalizer\n",
        "             \n",
        "            itemaverage = np.sum(train_matrix, axis=1)/(np.sum(temp_matrix, axis=1) + 1e-5)\n",
        "            columns = np.sum(predictionMatrix, axis=0)\n",
        "            \n",
        "            predictionMatrix[:, columns==0] = predictionMatrix[:, columns==0] + np.expand_dims(itemaverage, axis=1)\n",
        "            self.__model = predictionMatrix.transpose()\n",
        "           \n",
        "        else:\n",
        "            print('No other option available')\n",
        "        \n",
        "    def evaluate_test(self, test_df, copy=False):\n",
        "        \n",
        "        if copy:\n",
        "            prediction = test_df.copy()\n",
        "        else:\n",
        "            prediction = test_df\n",
        "        prediction[self.pred_column_name] = np.nan\n",
        "        \n",
        "        for (index, \n",
        "             userID, \n",
        "             itemID) in tqdm(prediction[['userID','itemID']].itertuples()):\n",
        "            prediction.loc[index, self.pred_column_name] = self.__model[userID-1, itemID-1]\n",
        "    \n",
        "        return prediction\n",
        "    \n",
        "    def getModel(self):\n",
        "        \n",
        "        return self.__model\n",
        "    \n",
        "    def getPredColName(self):\n",
        "        \n",
        "        return self.pred_column_name\n",
        "    \n",
        "    def reset(self):\n",
        "        \n",
        "        try:\n",
        "            self.model = None\n",
        "        except:\n",
        "            print(\"You do not have model..\")"
      ],
      "execution_count": 0,
      "outputs": []
    },
    {
      "cell_type": "code",
      "metadata": {
        "id": "RROHVWRpzduA",
        "colab_type": "code",
        "outputId": "f7fadba3-1719-4a2d-bacf-ee07657be5ba",
        "colab": {
          "base_uri": "https://localhost:8080/",
          "height": 68
        }
      },
      "source": [
        "\n",
        "I = np.eye(3)\n",
        "SimBasedRecSys.cosine(I)"
      ],
      "execution_count": 0,
      "outputs": [
        {
          "output_type": "execute_result",
          "data": {
            "text/plain": [
              "array([[1., 0., 0.],\n",
              "       [0., 1., 0.],\n",
              "       [0., 0., 1.]])"
            ]
          },
          "metadata": {
            "tags": []
          },
          "execution_count": 38
        }
      ]
    },
    {
      "cell_type": "code",
      "metadata": {
        "id": "ZQ5BkzGPzduC",
        "colab_type": "code",
        "outputId": "1e7aea61-3aa7-43e9-ea3f-7e7bcccc3501",
        "colab": {
          "base_uri": "https://localhost:8080/",
          "height": 68
        }
      },
      "source": [
        "SimBasedRecSys.euclidean(I)"
      ],
      "execution_count": 0,
      "outputs": [
        {
          "output_type": "execute_result",
          "data": {
            "text/plain": [
              "array([[1.        , 0.41421356, 0.41421356],\n",
              "       [0.41421356, 1.        , 0.41421356],\n",
              "       [0.41421356, 0.41421356, 1.        ]])"
            ]
          },
          "metadata": {
            "tags": []
          },
          "execution_count": 39
        }
      ]
    },
    {
      "cell_type": "code",
      "metadata": {
        "id": "2V-L-T-PzduF",
        "colab_type": "code",
        "outputId": "c450e676-e2f7-42fb-e8bc-ab20329fcc6e",
        "colab": {
          "base_uri": "https://localhost:8080/",
          "height": 68
        }
      },
      "source": [
        "SimBasedRecSys.somethingelse(I)"
      ],
      "execution_count": 0,
      "outputs": [
        {
          "output_type": "execute_result",
          "data": {
            "text/plain": [
              "array([[1.        , 0.33333333, 0.33333333],\n",
              "       [0.33333333, 1.        , 0.33333333],\n",
              "       [0.33333333, 0.33333333, 1.        ]])"
            ]
          },
          "metadata": {
            "tags": []
          },
          "execution_count": 40
        }
      ]
    },
    {
      "cell_type": "markdown",
      "metadata": {
        "id": "ixAQEN-Hr0TX",
        "colab_type": "text"
      },
      "source": [
        " Euclidean distance works better as it reduces recommendation problem to one of finding the nearest neighbors."
      ]
    },
    {
      "cell_type": "markdown",
      "metadata": {
        "id": "USPsbXpnzduH",
        "colab_type": "text"
      },
      "source": [
        "I have implemented manhattan distance as another metric because again it is similar to euclidean distance and it reduces recommendation problem to finding the nearest neighbor.(side effect is it effects to outliers)"
      ]
    },
    {
      "cell_type": "code",
      "metadata": {
        "id": "zAaSIC3BzduM",
        "colab_type": "code",
        "colab": {}
      },
      "source": [
        "user_cosine_recsys = SimBasedRecSys('user','cosine')"
      ],
      "execution_count": 0,
      "outputs": []
    },
    {
      "cell_type": "code",
      "metadata": {
        "id": "dBGVr2_JzduQ",
        "colab_type": "code",
        "colab": {}
      },
      "source": [
        "user_cosine_recsys.predict_all(rating_df, num_users, num_items)"
      ],
      "execution_count": 0,
      "outputs": []
    },
    {
      "cell_type": "code",
      "metadata": {
        "id": "isW4B7nfzduW",
        "colab_type": "code",
        "outputId": "e0f61b69-366f-444c-d782-634d6ff0b272",
        "colab": {
          "base_uri": "https://localhost:8080/",
          "height": 238
        }
      },
      "source": [
        "user_cosine_recsys.getModel()"
      ],
      "execution_count": 0,
      "outputs": [
        {
          "output_type": "execute_result",
          "data": {
            "text/plain": [
              "array([[3.89911175, 3.19022667, 3.0261129 , ..., 2.        , 3.        ,\n",
              "        3.        ],\n",
              "       [3.84034456, 3.17139889, 2.92626717, ..., 2.        , 3.        ,\n",
              "        3.        ],\n",
              "       [3.87104065, 3.12823798, 3.03250708, ..., 2.        , 3.        ,\n",
              "        3.        ],\n",
              "       ...,\n",
              "       [3.90754645, 3.20227238, 3.05776201, ..., 2.        , 3.        ,\n",
              "        3.        ],\n",
              "       [3.91100649, 3.21591021, 2.98854017, ..., 2.        , 3.        ,\n",
              "        3.        ],\n",
              "       [3.91593122, 3.24268207, 3.08255897, ..., 0.        , 3.        ,\n",
              "        3.        ]])"
            ]
          },
          "metadata": {
            "tags": []
          },
          "execution_count": 43
        }
      ]
    },
    {
      "cell_type": "code",
      "metadata": {
        "id": "wdxjAZJrzdud",
        "colab_type": "code",
        "outputId": "4134057c-987f-4b8e-a1f6-e74878c18181",
        "colab": {
          "base_uri": "https://localhost:8080/",
          "height": 204
        }
      },
      "source": [
        "rating_df.head()"
      ],
      "execution_count": 0,
      "outputs": [
        {
          "output_type": "execute_result",
          "data": {
            "text/html": [
              "<div>\n",
              "<style scoped>\n",
              "    .dataframe tbody tr th:only-of-type {\n",
              "        vertical-align: middle;\n",
              "    }\n",
              "\n",
              "    .dataframe tbody tr th {\n",
              "        vertical-align: top;\n",
              "    }\n",
              "\n",
              "    .dataframe thead th {\n",
              "        text-align: right;\n",
              "    }\n",
              "</style>\n",
              "<table border=\"1\" class=\"dataframe\">\n",
              "  <thead>\n",
              "    <tr style=\"text-align: right;\">\n",
              "      <th></th>\n",
              "      <th>userID</th>\n",
              "      <th>itemID</th>\n",
              "      <th>rating</th>\n",
              "      <th>timestamp</th>\n",
              "    </tr>\n",
              "  </thead>\n",
              "  <tbody>\n",
              "    <tr>\n",
              "      <th>0</th>\n",
              "      <td>196</td>\n",
              "      <td>242</td>\n",
              "      <td>3</td>\n",
              "      <td>881250949</td>\n",
              "    </tr>\n",
              "    <tr>\n",
              "      <th>1</th>\n",
              "      <td>186</td>\n",
              "      <td>302</td>\n",
              "      <td>3</td>\n",
              "      <td>891717742</td>\n",
              "    </tr>\n",
              "    <tr>\n",
              "      <th>2</th>\n",
              "      <td>22</td>\n",
              "      <td>377</td>\n",
              "      <td>1</td>\n",
              "      <td>878887116</td>\n",
              "    </tr>\n",
              "    <tr>\n",
              "      <th>3</th>\n",
              "      <td>244</td>\n",
              "      <td>51</td>\n",
              "      <td>2</td>\n",
              "      <td>880606923</td>\n",
              "    </tr>\n",
              "    <tr>\n",
              "      <th>4</th>\n",
              "      <td>166</td>\n",
              "      <td>346</td>\n",
              "      <td>1</td>\n",
              "      <td>886397596</td>\n",
              "    </tr>\n",
              "  </tbody>\n",
              "</table>\n",
              "</div>"
            ],
            "text/plain": [
              "   userID  itemID  rating  timestamp\n",
              "0     196     242       3  881250949\n",
              "1     186     302       3  891717742\n",
              "2      22     377       1  878887116\n",
              "3     244      51       2  880606923\n",
              "4     166     346       1  886397596"
            ]
          },
          "metadata": {
            "tags": []
          },
          "execution_count": 44
        }
      ]
    },
    {
      "cell_type": "code",
      "metadata": {
        "scrolled": true,
        "id": "yc2PgKylzdug",
        "colab_type": "code",
        "outputId": "c3bec787-d60d-4bf8-f490-3a04689539c8",
        "colab": {
          "base_uri": "https://localhost:8080/",
          "height": 221
        }
      },
      "source": [
        "user_cosine_recsys.evaluate_test(rating_df,copy=True).head()"
      ],
      "execution_count": 0,
      "outputs": [
        {
          "output_type": "stream",
          "text": [
            "100000it [02:25, 689.00it/s]\n"
          ],
          "name": "stderr"
        },
        {
          "output_type": "execute_result",
          "data": {
            "text/html": [
              "<div>\n",
              "<style scoped>\n",
              "    .dataframe tbody tr th:only-of-type {\n",
              "        vertical-align: middle;\n",
              "    }\n",
              "\n",
              "    .dataframe tbody tr th {\n",
              "        vertical-align: top;\n",
              "    }\n",
              "\n",
              "    .dataframe thead th {\n",
              "        text-align: right;\n",
              "    }\n",
              "</style>\n",
              "<table border=\"1\" class=\"dataframe\">\n",
              "  <thead>\n",
              "    <tr style=\"text-align: right;\">\n",
              "      <th></th>\n",
              "      <th>userID</th>\n",
              "      <th>itemID</th>\n",
              "      <th>rating</th>\n",
              "      <th>timestamp</th>\n",
              "      <th>user-cosine</th>\n",
              "    </tr>\n",
              "  </thead>\n",
              "  <tbody>\n",
              "    <tr>\n",
              "      <th>0</th>\n",
              "      <td>196</td>\n",
              "      <td>242</td>\n",
              "      <td>3</td>\n",
              "      <td>881250949</td>\n",
              "      <td>4.025213</td>\n",
              "    </tr>\n",
              "    <tr>\n",
              "      <th>1</th>\n",
              "      <td>186</td>\n",
              "      <td>302</td>\n",
              "      <td>3</td>\n",
              "      <td>891717742</td>\n",
              "      <td>4.142828</td>\n",
              "    </tr>\n",
              "    <tr>\n",
              "      <th>2</th>\n",
              "      <td>22</td>\n",
              "      <td>377</td>\n",
              "      <td>1</td>\n",
              "      <td>878887116</td>\n",
              "      <td>1.922080</td>\n",
              "    </tr>\n",
              "    <tr>\n",
              "      <th>3</th>\n",
              "      <td>244</td>\n",
              "      <td>51</td>\n",
              "      <td>2</td>\n",
              "      <td>880606923</td>\n",
              "      <td>3.431884</td>\n",
              "    </tr>\n",
              "    <tr>\n",
              "      <th>4</th>\n",
              "      <td>166</td>\n",
              "      <td>346</td>\n",
              "      <td>1</td>\n",
              "      <td>886397596</td>\n",
              "      <td>3.424963</td>\n",
              "    </tr>\n",
              "  </tbody>\n",
              "</table>\n",
              "</div>"
            ],
            "text/plain": [
              "   userID  itemID  rating  timestamp  user-cosine\n",
              "0     196     242       3  881250949     4.025213\n",
              "1     186     302       3  891717742     4.142828\n",
              "2      22     377       1  878887116     1.922080\n",
              "3     244      51       2  880606923     3.431884\n",
              "4     166     346       1  886397596     3.424963"
            ]
          },
          "metadata": {
            "tags": []
          },
          "execution_count": 45
        }
      ]
    },
    {
      "cell_type": "code",
      "metadata": {
        "id": "0Ic_FKWUzdui",
        "colab_type": "code",
        "colab": {}
      },
      "source": [
        "item_cosine_recsys = SimBasedRecSys('item','cosine')"
      ],
      "execution_count": 0,
      "outputs": []
    },
    {
      "cell_type": "code",
      "metadata": {
        "id": "k-BnXbsLzdul",
        "colab_type": "code",
        "colab": {}
      },
      "source": [
        "class CrossValidation(object):\n",
        "    def __init__(self, metric, data_path=MOVIELENS_DIR):\n",
        "       \n",
        "        self.folds = self._getData(MOVIELENS_DIR)\n",
        "        self.metric_name = metric\n",
        "        self.metric = self._getMetric(self.metric_name)\n",
        "        \n",
        "    def _getMetric(self, metric_name):\n",
        "        \n",
        "        switcher = {\n",
        "            'RMSE': self.rmse,\n",
        "            'P@K': self.patk,\n",
        "            'R@K': self.ratk,\n",
        "        }\n",
        "        \n",
        "        return switcher[metric_name]\n",
        "    \n",
        "    @staticmethod\n",
        "    def rmse(data, k, num_users, num_items, pred, true='rating'):\n",
        "        \n",
        "        return sqrt(mean_squared_error(data[pred], data[true]))\n",
        "    \n",
        "    # Precision at k\n",
        "    def patk(self, data, k, num_users, num_items, pred, true='rating'):\n",
        "        \n",
        "        prediction = self.getMatrix(data, num_users, num_items, pred)\n",
        "        testSet =  self.getMatrix(data, num_users, num_items, true)\n",
        "    \n",
        "        # Initialize sum and count vars for average calculation\n",
        "        sumPrecisions = 0\n",
        "        countPrecisions = 0\n",
        "\n",
        "        # Define function for converting 1-5 rating to 0/1 (like / don't like)\n",
        "        vf = np.vectorize(lambda x: 1 if x >= 4 else 0)\n",
        "\n",
        "        for userID in range(num_users):\n",
        "            # Pick top K based on predicted rating\n",
        "            userVector = prediction[userID,:]\n",
        "            topK = nlargest(k, range(len(userVector)), userVector.take)\n",
        "\n",
        "            # Convert test set ratings to like / don't like\n",
        "            userTestVector = vf(testSet[userID,:]).nonzero()[0]\n",
        "\n",
        "            # Calculate precision\n",
        "            precision = float(len([item for item in topK if item in userTestVector]))/len(topK)\n",
        "\n",
        "            # Update sum and count\n",
        "            sumPrecisions += precision\n",
        "            countPrecisions += 1\n",
        "\n",
        "        # Return average P@k\n",
        "        return float(sumPrecisions)/countPrecisions\n",
        "    \n",
        "    # Recall at k\n",
        "    def ratk(self, data, k, num_users, num_items, pred, true='rating'):\n",
        "        \"\"\"\n",
        "            data: pandas DataFrame. \n",
        "            k: top-k items relevant\n",
        "            pred: string. Column name that corresponding to the prediction\n",
        "            true: string. Column name that corresponding to the true rating\n",
        "        \"\"\"\n",
        "        prediction = self.getMatrix(data, num_users, num_items, pred)\n",
        "        testSet =  self.getMatrix(data, num_users, num_items, true)\n",
        "        # Initialize sum and count vars for average calculation\n",
        "        sumRecalls = 0\n",
        "        countRecalls = 0\n",
        "\n",
        "        # Define function for converting 1-5 rating to 0/1 (like / don't like)\n",
        "        vf = np.vectorize(lambda x: 1 if x >= 4 else 0)\n",
        "\n",
        "        for userID in range(num_users):\n",
        "            # Pick top K based on predicted rating\n",
        "            userVector = prediction[userID,:]\n",
        "            topK = nlargest(k, range(len(userVector)), userVector.take)\n",
        "\n",
        "            # Convert test set ratings to like / don't like\n",
        "            userTestVector = vf(testSet[userID,:]).nonzero()[0]\n",
        "\n",
        "            # Ignore user if has no ratings in the test set\n",
        "            if (len(userTestVector) == 0):\n",
        "                continue\n",
        "\n",
        "            # Calculate recall\n",
        "            recall = float(len([item for item in topK if item in userTestVector]))/len(userTestVector)\n",
        "\n",
        "            # Update sum and count\n",
        "            sumRecalls += recall\n",
        "            countRecalls += 1\n",
        "\n",
        "        # Return average R@k\n",
        "        return float(sumRecalls)/countRecalls\n",
        "    \n",
        "    @staticmethod\n",
        "    def getMatrix(rating_df, num_users, num_items, column_name):\n",
        "        matrix = np.zeros((num_users, num_items))\n",
        "    \n",
        "        for (index, userID, itemID, value) in rating_df[['userID','itemID', column_name]].itertuples():\n",
        "            matrix[userID-1, itemID-1] = value\n",
        "            \n",
        "        return matrix\n",
        "    \n",
        "    @staticmethod\n",
        "    def _getData(data_path):\n",
        "       \n",
        "        folds = []\n",
        "        data_types = ['u{0}.base','u{0}.test']\n",
        "        for i in range(1,6):\n",
        "            train_set = getData(data_path, data_types[0].format(i))\n",
        "            test_set = getData(data_path, data_types[1].format(i))\n",
        "            folds.append([train_set, test_set])\n",
        "        return folds\n",
        "    \n",
        "    def run(self, algorithms, num_users, num_items, k=1):\n",
        "        \n",
        "        scores = {}\n",
        "        for algorithm in algorithms:\n",
        "            print('Processing algorithm {0}'.format(algorithm.getPredColName()))\n",
        "            fold_scores = []\n",
        "            for fold in self.folds:\n",
        "                algorithm.reset()\n",
        "                algorithm.predict_all(fold[0], num_users, num_items)\n",
        "                prediction = algorithm.evaluate_test(fold[1])\n",
        "                pred_col = algorithm.getPredColName()\n",
        "                fold_scores.append(self.metric(prediction, k, num_users, num_items, pred_col))\n",
        "                \n",
        "            mean = np.mean(fold_scores)\n",
        "            ci_low, ci_high = stats.t.interval(0.95, len(fold_scores)-1, loc=mean, scale=stats.sem(fold_scores))\n",
        "            scores[algorithm.getPredColName()] = [fold_scores, mean, ci_low, ci_high]\n",
        "            \n",
        "        results = scores    \n",
        "    \n",
        "        return results\n",
        "            "
      ],
      "execution_count": 0,
      "outputs": []
    },
    {
      "cell_type": "code",
      "metadata": {
        "id": "CU3rZPtnzdus",
        "colab_type": "code",
        "colab": {}
      },
      "source": [
        "algorithm_instances = [user_cosine_recsys , item_cosine_recsys]"
      ],
      "execution_count": 0,
      "outputs": []
    },
    {
      "cell_type": "code",
      "metadata": {
        "id": "xf-m7d5Dzdux",
        "colab_type": "code",
        "colab": {}
      },
      "source": [
        "\n",
        "cv_patk = CrossValidation('RMSE')"
      ],
      "execution_count": 0,
      "outputs": []
    },
    {
      "cell_type": "code",
      "metadata": {
        "id": "XqcihyZdzduz",
        "colab_type": "code",
        "outputId": "e7180dcd-f6e5-42cf-ba19-7366a85fb0ec",
        "colab": {
          "base_uri": "https://localhost:8080/",
          "height": 493
        }
      },
      "source": [
        "\n",
        "cv_patk.run(algorithm_instances, num_users, num_items,k=5)"
      ],
      "execution_count": 0,
      "outputs": [
        {
          "output_type": "stream",
          "text": [
            "Processing algorithm user-cosine\n"
          ],
          "name": "stdout"
        },
        {
          "output_type": "stream",
          "text": [
            "20000it [00:11, 1809.24it/s]\n",
            "20000it [00:10, 1889.53it/s]\n",
            "20000it [00:10, 1869.52it/s]\n",
            "20000it [00:10, 1880.16it/s]\n",
            "20000it [00:10, 1906.95it/s]\n"
          ],
          "name": "stderr"
        },
        {
          "output_type": "stream",
          "text": [
            "Processing algorithm item-cosine\n"
          ],
          "name": "stdout"
        },
        {
          "output_type": "stream",
          "text": [
            "20000it [00:10, 1871.10it/s]\n",
            "20000it [00:10, 1900.40it/s]\n",
            "20000it [00:10, 1926.52it/s]\n",
            "20000it [00:10, 1936.40it/s]\n",
            "20000it [00:10, 1915.26it/s]\n"
          ],
          "name": "stderr"
        },
        {
          "output_type": "execute_result",
          "data": {
            "text/plain": [
              "{'item-cosine': [[1.0377631264364244,\n",
              "   1.0207280585350078,\n",
              "   1.0101820660011798,\n",
              "   1.0136832839209695,\n",
              "   1.0180579656376574],\n",
              "  1.020082900106248,\n",
              "  1.0068242686250732,\n",
              "  1.0333415315874226],\n",
              " 'user-cosine': [[1.0264490128856898,\n",
              "   1.0214387664092763,\n",
              "   1.0132940323507253,\n",
              "   1.009400399702741,\n",
              "   1.0161883960008826],\n",
              "  1.017354121469863,\n",
              "  1.0090130800118484,\n",
              "  1.0256951629278774]}"
            ]
          },
          "metadata": {
            "tags": []
          },
          "execution_count": 51
        }
      ]
    },
    {
      "cell_type": "markdown",
      "metadata": {
        "id": "Bg3YYGq8V-Te",
        "colab_type": "text"
      },
      "source": [
        "**3b:** User cosine performs better than item cosine because users\n",
        "can predict other user's preferences more effectively while a user might like a certain movie of that genre or type while don't like that genre or type in whole.  "
      ]
    },
    {
      "cell_type": "code",
      "metadata": {
        "id": "AI1hS4CP5RVP",
        "colab_type": "code",
        "colab": {}
      },
      "source": [
        "class PMFRecSys(object):\n",
        "    def __init__(self, num_feat=10, epsilon=1, _lambda=0.1, momentum=0.8, maxepoch=20, num_batches=10, batch_size=1000):\n",
        "        \"\"\"\n",
        "            num_feat: int, number of latent features\n",
        "            epsilon: float, learning rate\n",
        "            _lambda: float, L2 regularization,\n",
        "            momentum: float, momentum of the gradient,\n",
        "            maxepoch: float, Number of epoch before stop,\n",
        "            num_batches: int, Number of batches in each epoch (for SGD optimization),\n",
        "            batch_size:Number int, of training samples used in each batches (for SGD optimization)\n",
        "            \n",
        "        \"\"\"\n",
        "        self.num_feat = num_feat  \n",
        "        self.epsilon = epsilon  \n",
        "        self._lambda = _lambda  \n",
        "        self.momentum = momentum  \n",
        "        self.maxepoch = maxepoch  \n",
        "        self.num_batches = num_batches  \n",
        "        self.batch_size = batch_size  \n",
        "        self.w_Item = None  \n",
        "        self.w_User = None  \n",
        "        \n",
        "        self.rmse_train = []\n",
        "        self.rmse_test = []\n",
        "        self.pred_column_name='PMF'\n",
        "\n",
        "    def predict_all(self, train_vec, num_user, num_item):\n",
        "        \n",
        "      \n",
        "        train_vec = train_vec.iloc[:, :3].values\n",
        "        if self.test:\n",
        "          train_vec, val_vec = train_test_split(train_vec)\n",
        "          pairs_val = val_vec.shape[0]\n",
        "          self.mean_rating_test = np.mean(val_vec[:, 2])\n",
        "        self.mean_rating_train = np.mean(train_vec[:, 2])  \n",
        "        pairs_train = train_vec.shape[0] \n",
        "        \n",
        "\n",
        "        num_user += 1  \n",
        "        num_item += 1  \n",
        "    \n",
        "        self.epoch = 0\n",
        "        \n",
        "        self.w_Item = sqrt(0.1)*np.random.randn(num_item,self.num_feat)  \n",
        "        self.w_User = sqrt(0.1)*np.random.randn(num_user,self.num_feat) \n",
        "        \n",
        "    \n",
        "\n",
        "        self.w_Item_inc = np.zeros((num_item, self.num_feat)) \n",
        "        self.w_User_inc = np.zeros((num_user, self.num_feat))  \n",
        "        while self.epoch < self.maxepoch: \n",
        "            self.epoch += 1\n",
        "\n",
        "         \n",
        "            shuffled_order = np.arange(train_vec.shape[0])  \n",
        "            np.random.shuffle(shuffled_order)  \n",
        "\n",
        "           \n",
        "            for batch in range(self.num_batches): \n",
        "               \n",
        "\n",
        "                test = np.arange(self.batch_size * batch, self.batch_size * (batch + 1))\n",
        "                batch_idx = np.mod(test, shuffled_order.shape[0])  \n",
        "\n",
        "\n",
        "                batch_UserID = np.array(train_vec[shuffled_order[batch_idx], 0], dtype='int32')\n",
        "                batch_ItemID = np.array(train_vec[shuffled_order[batch_idx], 1], dtype='int32')\n",
        "\n",
        "                \n",
        "                pred_out = np.sum(self.w_Item[batch_ItemID] * self.w_User[batch_UserID], axis=1)\n",
        "                \n",
        "            \n",
        "\n",
        "                rawErr = pred_out + self.mean_rating_train - train_vec[shuffled_order[batch_idx], 2]\n",
        "\n",
        "                Ix_User = 2 * np.multiply(rawErr[:, np.newaxis], self.w_Item[batch_ItemID, :]) \\\n",
        "                       + self._lambda * self.w_User[batch_UserID, :]\n",
        "                Ix_Item = 2 * np.multiply(rawErr[:, np.newaxis], self.w_User[batch_UserID, :]) \\\n",
        "                       + self._lambda * (self.w_Item[batch_ItemID, :])  \n",
        "\n",
        "                dw_Item = np.zeros((num_item, self.num_feat))\n",
        "                dw_User = np.zeros((num_user, self.num_feat))\n",
        "\n",
        "                for i in range(self.batch_size):\n",
        "                    dw_Item[batch_ItemID[i], :] += Ix_Item[i, :]\n",
        "                    dw_User[batch_UserID[i], :] += Ix_User[i, :]\n",
        "\n",
        "                self.w_Item_inc = self.momentum * self.w_Item_inc + self.epsilon * dw_Item / self.batch_size\n",
        "                self.w_User_inc = self.momentum * self.w_User_inc + self.epsilon * dw_User / self.batch_size\n",
        "\n",
        "                self.w_Item = self.w_Item - self.w_Item_inc\n",
        "                self.w_User = self.w_User - self.w_User_inc\n",
        "\n",
        "              \n",
        "                if batch == self.num_batches - 1:\n",
        "                    train_user_idx = np.array(train_vec[:, 0], dtype='int32')\n",
        "                    train_item_idx = np.array(train_vec[:, 1], dtype='int32')\n",
        "                    \n",
        "                    pred_out =  np.sum(self.w_Item[train_item_idx]*self.w_User[train_user_idx],axis=1) \n",
        "            \n",
        "\n",
        "                    rawErr = pred_out + self.mean_rating_train - train_vec[:, 2] \n",
        "                    obj = np.linalg.norm(rawErr) ** 2 \\\n",
        "                          + 0.5 * self._lambda * (np.linalg.norm(self.w_User) ** 2 + np.linalg.norm(self.w_Item) ** 2)\n",
        "\n",
        "                    self.rmse_train.append(np.sqrt(obj / pairs_train))\n",
        "\n",
        "                if batch == self.num_batches - 1 and self.test:\n",
        "                    val_user_idx = np.array(val_vec[:, 0], dtype='int32')\n",
        "                    val_item_idx = np.array(val_vec[:, 1], dtype='int32')\n",
        "            \n",
        "                    pred_out = np.sum(self.w_Item[val_item_idx]*self.w_User[val_user_idx],axis=1)\n",
        "            \n",
        "            \n",
        "                    rawErr = pred_out + self.mean_rating_test - val_vec[:, 2]\n",
        "                    self.rmse_test.append(np.linalg.norm(rawErr) / np.sqrt(pairs_val))\n",
        "\n",
        "\n",
        "        \n",
        "\n",
        "        \n",
        "    def evaluate_test(self, test_df, copy=False):\n",
        "        \n",
        "        if copy:\n",
        "            prediction = pd.DataFrame(test_df.copy(), columns=['userID', 'itemID', 'rating'])\n",
        "        else:\n",
        "            prediction = pd.DataFrame(test_df, columns=['userID', 'itemID', 'rating'])\n",
        "        prediction[self.pred_column_name] = np.nan\n",
        "        \n",
        "        for (index, \n",
        "             userID, \n",
        "             itemID) in tqdm(prediction[['userID','itemID']].itertuples()):\n",
        "            prediction.loc[index, self.pred_column_name] = (np.dot(self.w_Item, self.w_User[int(userID), :]) + self.mean_rating_train)[int(itemID)]\n",
        "    \n",
        "        return prediction\n",
        "    \n",
        "    def plot_error(self):\n",
        "      if self.test:\n",
        "        plt.plot(range(pmf.maxepoch), pmf.rmse_test, marker='v', label='Test Data')\n",
        "      plt.plot(range(pmf.maxepoch), pmf.rmse_train, marker='o', label='Training Data')\n",
        "      plt.title('The MovieLens Dataset Learning Curve')\n",
        "      plt.xlabel('Number of Epochs')\n",
        "      plt.ylabel('RMSE')\n",
        "      plt.legend()\n",
        "      plt.grid()\n",
        "      plt.show()\n",
        "          \n",
        "    def getPredColName(self):\n",
        "        \n",
        "        return self.pred_column_name\n",
        "    \n",
        "    def reset(self):\n",
        "        \n",
        "        try:\n",
        "            self.w_Item = None \n",
        "            self.w_User = None \n",
        "        except:\n",
        "            print(\"You do not have w_Item, w_User\")\n",
        "\n",
        "    def set_params(self, parameters):\n",
        "        if isinstance(parameters, dict):\n",
        "            self.num_feat = parameters.get(\"num_feat\", 10)\n",
        "            self.epsilon = parameters.get(\"epsilon\", 1)\n",
        "            self._lambda = parameters.get(\"_lambda\", 0.1)\n",
        "            self.momentum = parameters.get(\"momentum\", 0.8)\n",
        "            self.maxepoch = parameters.get(\"maxepoch\", 20)\n",
        "            self.num_batches = parameters.get(\"num_batches\", 10)\n",
        "            self.batch_size = parameters.get(\"batch_size\", 1000)\n",
        "            self.test = parameters.get(\"test_mode\", False)"
      ],
      "execution_count": 0,
      "outputs": []
    },
    {
      "cell_type": "code",
      "metadata": {
        "id": "ce7wlxycY76k",
        "colab_type": "code",
        "colab": {}
      },
      "source": [
        "pmf = PMFRecSys()\n",
        "pmf.set_params({\"num_feat\": 10, \"epsilon\": 1, \"_lambda\": 0.1, \"momentum\": 0.8, \"maxepoch\": 17, \"num_batches\": 100,\n",
        "                \"batch_size\": 1000, 'test_mode':False})"
      ],
      "execution_count": 0,
      "outputs": []
    },
    {
      "cell_type": "code",
      "metadata": {
        "id": "p56cFny7Y_Z_",
        "colab_type": "code",
        "outputId": "d44fd880-7eaf-48e4-b0f0-2f07e68921d9",
        "colab": {
          "base_uri": "https://localhost:8080/",
          "height": 295
        }
      },
      "source": [
        "pmf.predict_all(rating_df, num_users, num_items)\n",
        "pmf.plot_error()"
      ],
      "execution_count": 0,
      "outputs": [
        {
          "output_type": "display_data",
          "data": {
            "image/png": "[encoded data removed]",
            "text/plain": [
              "<Figure size 432x288 with 1 Axes>"
            ]
          },
          "metadata": {
            "tags": []
          }
        }
      ]
    },
    {
      "cell_type": "code",
      "metadata": {
        "id": "YS4qfLOAzdu2",
        "colab_type": "code",
        "colab": {}
      },
      "source": [
        "algorithm_instances = [item_cosine_recsys,\n",
        "                       popularity_recsys, \n",
        "                       average_user_rating_recsys, \n",
        "                       user_cosine_recsys,\n",
        "                       pmf]"
      ],
      "execution_count": 0,
      "outputs": []
    },
    {
      "cell_type": "code",
      "metadata": {
        "id": "e2XZS43lmX8K",
        "colab_type": "code",
        "colab": {}
      },
      "source": [
        "cv_patk = CrossValidation('P@K')\n",
        "cv_ratk = CrossValidation('R@K')\n",
        "cv_rmse = CrossValidation('RMSE')"
      ],
      "execution_count": 0,
      "outputs": []
    },
    {
      "cell_type": "code",
      "metadata": {
        "id": "mId0ABFLnC_-",
        "colab_type": "code",
        "outputId": "6c7e5ba4-6ef2-43ac-cae2-286b7b86e63a",
        "colab": {
          "base_uri": "https://localhost:8080/",
          "height": 1000
        }
      },
      "source": [
        "result_patk = cv_patk.run(algorithm_instances, num_users, num_items,k=5)\n",
        "result_ratk = cv_ratk.run(algorithm_instances, num_users, num_items,k=5)\n",
        "result_rmse = cv_rmse.run(algorithm_instances, num_users, num_items,k=5)"
      ],
      "execution_count": 0,
      "outputs": [
        {
          "output_type": "stream",
          "text": [
            "Processing algorithm item-cosine\n"
          ],
          "name": "stdout"
        },
        {
          "output_type": "stream",
          "text": [
            "20000it [00:10, 1924.70it/s]\n",
            "20000it [00:10, 1966.36it/s]\n",
            "20000it [00:10, 1987.93it/s]\n",
            "20000it [00:10, 1978.43it/s]\n",
            "20000it [00:10, 1995.34it/s]\n"
          ],
          "name": "stderr"
        },
        {
          "output_type": "stream",
          "text": [
            "Processing algorithm popularity\n",
            "calculated 0 users\n",
            "calculated 100 users\n",
            "calculated 200 users\n",
            "calculated 300 users\n",
            "calculated 400 users\n",
            "calculated 500 users\n",
            "calculated 600 users\n",
            "calculated 700 users\n",
            "calculated 800 users\n"
          ],
          "name": "stdout"
        },
        {
          "output_type": "stream",
          "text": [
            "\r0it [00:00, ?it/s]"
          ],
          "name": "stderr"
        },
        {
          "output_type": "stream",
          "text": [
            "calculated 900 users\n"
          ],
          "name": "stdout"
        },
        {
          "output_type": "stream",
          "text": [
            "20000it [00:10, 1932.60it/s]\n"
          ],
          "name": "stderr"
        },
        {
          "output_type": "stream",
          "text": [
            "calculated 0 users\n",
            "calculated 100 users\n",
            "calculated 200 users\n",
            "calculated 300 users\n",
            "calculated 400 users\n",
            "calculated 500 users\n",
            "calculated 600 users\n",
            "calculated 700 users\n",
            "calculated 800 users\n"
          ],
          "name": "stdout"
        },
        {
          "output_type": "stream",
          "text": [
            "\r0it [00:00, ?it/s]"
          ],
          "name": "stderr"
        },
        {
          "output_type": "stream",
          "text": [
            "calculated 900 users\n"
          ],
          "name": "stdout"
        },
        {
          "output_type": "stream",
          "text": [
            "20000it [00:10, 1964.71it/s]\n"
          ],
          "name": "stderr"
        },
        {
          "output_type": "stream",
          "text": [
            "calculated 0 users\n",
            "calculated 100 users\n",
            "calculated 200 users\n",
            "calculated 300 users\n",
            "calculated 400 users\n",
            "calculated 500 users\n",
            "calculated 600 users\n",
            "calculated 700 users\n",
            "calculated 800 users\n"
          ],
          "name": "stdout"
        },
        {
          "output_type": "stream",
          "text": [
            "\r0it [00:00, ?it/s]"
          ],
          "name": "stderr"
        },
        {
          "output_type": "stream",
          "text": [
            "calculated 900 users\n"
          ],
          "name": "stdout"
        },
        {
          "output_type": "stream",
          "text": [
            "20000it [00:09, 2019.98it/s]\n"
          ],
          "name": "stderr"
        },
        {
          "output_type": "stream",
          "text": [
            "calculated 0 users\n",
            "calculated 100 users\n",
            "calculated 200 users\n",
            "calculated 300 users\n",
            "calculated 400 users\n",
            "calculated 500 users\n",
            "calculated 600 users\n",
            "calculated 700 users\n",
            "calculated 800 users\n"
          ],
          "name": "stdout"
        },
        {
          "output_type": "stream",
          "text": [
            "\r0it [00:00, ?it/s]"
          ],
          "name": "stderr"
        },
        {
          "output_type": "stream",
          "text": [
            "calculated 900 users\n"
          ],
          "name": "stdout"
        },
        {
          "output_type": "stream",
          "text": [
            "20000it [00:09, 2001.12it/s]\n"
          ],
          "name": "stderr"
        },
        {
          "output_type": "stream",
          "text": [
            "calculated 0 users\n",
            "calculated 100 users\n",
            "calculated 200 users\n",
            "calculated 300 users\n",
            "calculated 400 users\n",
            "calculated 500 users\n",
            "calculated 600 users\n",
            "calculated 700 users\n",
            "calculated 800 users\n"
          ],
          "name": "stdout"
        },
        {
          "output_type": "stream",
          "text": [
            "\r0it [00:00, ?it/s]"
          ],
          "name": "stderr"
        },
        {
          "output_type": "stream",
          "text": [
            "calculated 900 users\n"
          ],
          "name": "stdout"
        },
        {
          "output_type": "stream",
          "text": [
            "20000it [00:10, 1990.09it/s]\n"
          ],
          "name": "stderr"
        },
        {
          "output_type": "stream",
          "text": [
            "Processing algorithm useraverage\n",
            "calculated 0 users\n",
            "calculated 100 users\n",
            "calculated 200 users\n",
            "calculated 300 users\n",
            "calculated 400 users\n",
            "calculated 500 users\n",
            "calculated 600 users\n",
            "calculated 700 users\n",
            "calculated 800 users\n",
            "calculated 900 users\n"
          ],
          "name": "stdout"
        },
        {
          "output_type": "stream",
          "text": [
            "20000it [00:10, 1996.43it/s]\n"
          ],
          "name": "stderr"
        },
        {
          "output_type": "stream",
          "text": [
            "calculated 0 users\n",
            "calculated 100 users\n",
            "calculated 200 users\n",
            "calculated 300 users\n",
            "calculated 400 users\n",
            "calculated 500 users\n",
            "calculated 600 users\n",
            "calculated 700 users\n",
            "calculated 800 users\n",
            "calculated 900 users\n"
          ],
          "name": "stdout"
        },
        {
          "output_type": "stream",
          "text": [
            "20000it [00:09, 2007.77it/s]\n"
          ],
          "name": "stderr"
        },
        {
          "output_type": "stream",
          "text": [
            "calculated 0 users\n",
            "calculated 100 users\n",
            "calculated 200 users\n",
            "calculated 300 users\n",
            "calculated 400 users\n",
            "calculated 500 users\n",
            "calculated 600 users\n",
            "calculated 700 users\n",
            "calculated 800 users\n",
            "calculated 900 users\n"
          ],
          "name": "stdout"
        },
        {
          "output_type": "stream",
          "text": [
            "20000it [00:10, 1990.63it/s]\n"
          ],
          "name": "stderr"
        },
        {
          "output_type": "stream",
          "text": [
            "calculated 0 users\n",
            "calculated 100 users\n",
            "calculated 200 users\n",
            "calculated 300 users\n",
            "calculated 400 users\n",
            "calculated 500 users\n",
            "calculated 600 users\n",
            "calculated 700 users\n",
            "calculated 800 users\n",
            "calculated 900 users\n"
          ],
          "name": "stdout"
        },
        {
          "output_type": "stream",
          "text": [
            "20000it [00:10, 1953.18it/s]\n"
          ],
          "name": "stderr"
        },
        {
          "output_type": "stream",
          "text": [
            "calculated 0 users\n",
            "calculated 100 users\n",
            "calculated 200 users\n",
            "calculated 300 users\n",
            "calculated 400 users\n",
            "calculated 500 users\n",
            "calculated 600 users\n",
            "calculated 700 users\n",
            "calculated 800 users\n",
            "calculated 900 users\n"
          ],
          "name": "stdout"
        },
        {
          "output_type": "stream",
          "text": [
            "20000it [00:10, 1974.27it/s]\n"
          ],
          "name": "stderr"
        },
        {
          "output_type": "stream",
          "text": [
            "Processing algorithm user-cosine\n"
          ],
          "name": "stdout"
        },
        {
          "output_type": "stream",
          "text": [
            "20000it [00:10, 1946.27it/s]\n",
            "20000it [00:10, 1964.86it/s]\n",
            "20000it [00:09, 2001.09it/s]\n",
            "20000it [00:10, 1993.28it/s]\n",
            "20000it [00:10, 1954.33it/s]\n"
          ],
          "name": "stderr"
        },
        {
          "output_type": "stream",
          "text": [
            "Processing algorithm PMF\n"
          ],
          "name": "stdout"
        },
        {
          "output_type": "stream",
          "text": [
            "20000it [00:19, 1042.11it/s]\n",
            "20000it [00:19, 1037.64it/s]\n",
            "20000it [00:20, 990.48it/s]\n",
            "20000it [00:20, 998.18it/s]\n",
            "20000it [00:19, 1016.37it/s]\n"
          ],
          "name": "stderr"
        },
        {
          "output_type": "stream",
          "text": [
            "Processing algorithm item-cosine\n"
          ],
          "name": "stdout"
        },
        {
          "output_type": "stream",
          "text": [
            "20000it [00:10, 1913.64it/s]\n",
            "20000it [00:10, 1931.16it/s]\n",
            "20000it [00:10, 1947.47it/s]\n",
            "20000it [00:10, 1976.15it/s]\n",
            "20000it [00:10, 1961.13it/s]\n"
          ],
          "name": "stderr"
        },
        {
          "output_type": "stream",
          "text": [
            "Processing algorithm popularity\n",
            "calculated 0 users\n",
            "calculated 100 users\n",
            "calculated 200 users\n",
            "calculated 300 users\n",
            "calculated 400 users\n",
            "calculated 500 users\n",
            "calculated 600 users\n",
            "calculated 700 users\n",
            "calculated 800 users\n"
          ],
          "name": "stdout"
        },
        {
          "output_type": "stream",
          "text": [
            "\r0it [00:00, ?it/s]"
          ],
          "name": "stderr"
        },
        {
          "output_type": "stream",
          "text": [
            "calculated 900 users\n"
          ],
          "name": "stdout"
        },
        {
          "output_type": "stream",
          "text": [
            "20000it [00:10, 1966.59it/s]\n"
          ],
          "name": "stderr"
        },
        {
          "output_type": "stream",
          "text": [
            "calculated 0 users\n",
            "calculated 100 users\n",
            "calculated 200 users\n",
            "calculated 300 users\n",
            "calculated 400 users\n",
            "calculated 500 users\n",
            "calculated 600 users\n",
            "calculated 700 users\n",
            "calculated 800 users\n"
          ],
          "name": "stdout"
        },
        {
          "output_type": "stream",
          "text": [
            "\r0it [00:00, ?it/s]"
          ],
          "name": "stderr"
        },
        {
          "output_type": "stream",
          "text": [
            "calculated 900 users\n"
          ],
          "name": "stdout"
        },
        {
          "output_type": "stream",
          "text": [
            "20000it [00:10, 1947.32it/s]\n"
          ],
          "name": "stderr"
        },
        {
          "output_type": "stream",
          "text": [
            "calculated 0 users\n",
            "calculated 100 users\n",
            "calculated 200 users\n",
            "calculated 300 users\n",
            "calculated 400 users\n",
            "calculated 500 users\n",
            "calculated 600 users\n",
            "calculated 700 users\n",
            "calculated 800 users\n"
          ],
          "name": "stdout"
        },
        {
          "output_type": "stream",
          "text": [
            "\r0it [00:00, ?it/s]"
          ],
          "name": "stderr"
        },
        {
          "output_type": "stream",
          "text": [
            "calculated 900 users\n"
          ],
          "name": "stdout"
        },
        {
          "output_type": "stream",
          "text": [
            "20000it [00:10, 1952.46it/s]\n"
          ],
          "name": "stderr"
        },
        {
          "output_type": "stream",
          "text": [
            "calculated 0 users\n",
            "calculated 100 users\n",
            "calculated 200 users\n",
            "calculated 300 users\n",
            "calculated 400 users\n",
            "calculated 500 users\n",
            "calculated 600 users\n",
            "calculated 700 users\n",
            "calculated 800 users\n"
          ],
          "name": "stdout"
        },
        {
          "output_type": "stream",
          "text": [
            "\r0it [00:00, ?it/s]"
          ],
          "name": "stderr"
        },
        {
          "output_type": "stream",
          "text": [
            "calculated 900 users\n"
          ],
          "name": "stdout"
        },
        {
          "output_type": "stream",
          "text": [
            "20000it [00:10, 1947.03it/s]\n"
          ],
          "name": "stderr"
        },
        {
          "output_type": "stream",
          "text": [
            "calculated 0 users\n",
            "calculated 100 users\n",
            "calculated 200 users\n",
            "calculated 300 users\n",
            "calculated 400 users\n",
            "calculated 500 users\n",
            "calculated 600 users\n",
            "calculated 700 users\n",
            "calculated 800 users\n"
          ],
          "name": "stdout"
        },
        {
          "output_type": "stream",
          "text": [
            "\r0it [00:00, ?it/s]"
          ],
          "name": "stderr"
        },
        {
          "output_type": "stream",
          "text": [
            "calculated 900 users\n"
          ],
          "name": "stdout"
        },
        {
          "output_type": "stream",
          "text": [
            "20000it [00:10, 1937.75it/s]\n"
          ],
          "name": "stderr"
        },
        {
          "output_type": "stream",
          "text": [
            "Processing algorithm useraverage\n",
            "calculated 0 users\n",
            "calculated 100 users\n",
            "calculated 200 users\n",
            "calculated 300 users\n",
            "calculated 400 users\n",
            "calculated 500 users\n",
            "calculated 600 users\n",
            "calculated 700 users\n",
            "calculated 800 users\n",
            "calculated 900 users\n"
          ],
          "name": "stdout"
        },
        {
          "output_type": "stream",
          "text": [
            "20000it [00:10, 1949.97it/s]\n"
          ],
          "name": "stderr"
        },
        {
          "output_type": "stream",
          "text": [
            "calculated 0 users\n",
            "calculated 100 users\n",
            "calculated 200 users\n",
            "calculated 300 users\n",
            "calculated 400 users\n",
            "calculated 500 users\n",
            "calculated 600 users\n",
            "calculated 700 users\n",
            "calculated 800 users\n",
            "calculated 900 users\n"
          ],
          "name": "stdout"
        },
        {
          "output_type": "stream",
          "text": [
            "20000it [00:10, 1936.60it/s]\n"
          ],
          "name": "stderr"
        },
        {
          "output_type": "stream",
          "text": [
            "calculated 0 users\n",
            "calculated 100 users\n",
            "calculated 200 users\n",
            "calculated 300 users\n",
            "calculated 400 users\n",
            "calculated 500 users\n",
            "calculated 600 users\n",
            "calculated 700 users\n",
            "calculated 800 users\n",
            "calculated 900 users\n"
          ],
          "name": "stdout"
        },
        {
          "output_type": "stream",
          "text": [
            "20000it [00:10, 1897.98it/s]\n"
          ],
          "name": "stderr"
        },
        {
          "output_type": "stream",
          "text": [
            "calculated 0 users\n",
            "calculated 100 users\n",
            "calculated 200 users\n",
            "calculated 300 users\n",
            "calculated 400 users\n",
            "calculated 500 users\n",
            "calculated 600 users\n",
            "calculated 700 users\n",
            "calculated 800 users\n",
            "calculated 900 users\n"
          ],
          "name": "stdout"
        },
        {
          "output_type": "stream",
          "text": [
            "20000it [00:10, 1949.51it/s]\n"
          ],
          "name": "stderr"
        },
        {
          "output_type": "stream",
          "text": [
            "calculated 0 users\n",
            "calculated 100 users\n",
            "calculated 200 users\n",
            "calculated 300 users\n",
            "calculated 400 users\n",
            "calculated 500 users\n",
            "calculated 600 users\n",
            "calculated 700 users\n",
            "calculated 800 users\n",
            "calculated 900 users\n"
          ],
          "name": "stdout"
        },
        {
          "output_type": "stream",
          "text": [
            "20000it [00:10, 1926.02it/s]\n"
          ],
          "name": "stderr"
        },
        {
          "output_type": "stream",
          "text": [
            "Processing algorithm user-cosine\n"
          ],
          "name": "stdout"
        },
        {
          "output_type": "stream",
          "text": [
            "20000it [00:10, 1908.81it/s]\n",
            "20000it [00:10, 1918.76it/s]\n",
            "20000it [00:10, 1969.67it/s]\n",
            "20000it [00:10, 1960.55it/s]\n",
            "20000it [00:10, 1935.89it/s]\n"
          ],
          "name": "stderr"
        },
        {
          "output_type": "stream",
          "text": [
            "Processing algorithm PMF\n"
          ],
          "name": "stdout"
        },
        {
          "output_type": "stream",
          "text": [
            "20000it [00:19, 1029.71it/s]\n",
            "20000it [00:19, 1036.71it/s]\n",
            "20000it [00:19, 1025.46it/s]\n",
            "20000it [00:19, 1032.03it/s]\n",
            "20000it [00:19, 1039.50it/s]\n"
          ],
          "name": "stderr"
        },
        {
          "output_type": "stream",
          "text": [
            "Processing algorithm item-cosine\n"
          ],
          "name": "stdout"
        },
        {
          "output_type": "stream",
          "text": [
            "20000it [00:10, 1918.92it/s]\n",
            "20000it [00:10, 1921.07it/s]\n",
            "20000it [00:10, 1977.43it/s]\n",
            "20000it [00:10, 1981.84it/s]\n",
            "20000it [00:10, 1949.50it/s]\n"
          ],
          "name": "stderr"
        },
        {
          "output_type": "stream",
          "text": [
            "Processing algorithm popularity\n",
            "calculated 0 users\n",
            "calculated 100 users\n",
            "calculated 200 users\n",
            "calculated 300 users\n",
            "calculated 400 users\n",
            "calculated 500 users\n",
            "calculated 600 users\n",
            "calculated 700 users\n",
            "calculated 800 users\n"
          ],
          "name": "stdout"
        },
        {
          "output_type": "stream",
          "text": [
            "\r0it [00:00, ?it/s]"
          ],
          "name": "stderr"
        },
        {
          "output_type": "stream",
          "text": [
            "calculated 900 users\n"
          ],
          "name": "stdout"
        },
        {
          "output_type": "stream",
          "text": [
            "20000it [00:10, 1953.92it/s]\n"
          ],
          "name": "stderr"
        },
        {
          "output_type": "stream",
          "text": [
            "calculated 0 users\n",
            "calculated 100 users\n",
            "calculated 200 users\n",
            "calculated 300 users\n",
            "calculated 400 users\n",
            "calculated 500 users\n",
            "calculated 600 users\n",
            "calculated 700 users\n",
            "calculated 800 users\n"
          ],
          "name": "stdout"
        },
        {
          "output_type": "stream",
          "text": [
            "\r0it [00:00, ?it/s]"
          ],
          "name": "stderr"
        },
        {
          "output_type": "stream",
          "text": [
            "calculated 900 users\n"
          ],
          "name": "stdout"
        },
        {
          "output_type": "stream",
          "text": [
            "20000it [00:10, 1968.41it/s]\n"
          ],
          "name": "stderr"
        },
        {
          "output_type": "stream",
          "text": [
            "calculated 0 users\n",
            "calculated 100 users\n",
            "calculated 200 users\n",
            "calculated 300 users\n",
            "calculated 400 users\n",
            "calculated 500 users\n",
            "calculated 600 users\n",
            "calculated 700 users\n",
            "calculated 800 users\n",
            "calculated 900 users\n"
          ],
          "name": "stdout"
        },
        {
          "output_type": "stream",
          "text": [
            "20000it [00:09, 2002.24it/s]\n"
          ],
          "name": "stderr"
        },
        {
          "output_type": "stream",
          "text": [
            "calculated 0 users\n",
            "calculated 100 users\n",
            "calculated 200 users\n",
            "calculated 300 users\n",
            "calculated 400 users\n",
            "calculated 500 users\n",
            "calculated 600 users\n",
            "calculated 700 users\n",
            "calculated 800 users\n"
          ],
          "name": "stdout"
        },
        {
          "output_type": "stream",
          "text": [
            "\r0it [00:00, ?it/s]"
          ],
          "name": "stderr"
        },
        {
          "output_type": "stream",
          "text": [
            "calculated 900 users\n"
          ],
          "name": "stdout"
        },
        {
          "output_type": "stream",
          "text": [
            "20000it [00:10, 1982.33it/s]\n"
          ],
          "name": "stderr"
        },
        {
          "output_type": "stream",
          "text": [
            "calculated 0 users\n",
            "calculated 100 users\n",
            "calculated 200 users\n",
            "calculated 300 users\n",
            "calculated 400 users\n",
            "calculated 500 users\n",
            "calculated 600 users\n",
            "calculated 700 users\n",
            "calculated 800 users\n"
          ],
          "name": "stdout"
        },
        {
          "output_type": "stream",
          "text": [
            "\r0it [00:00, ?it/s]"
          ],
          "name": "stderr"
        },
        {
          "output_type": "stream",
          "text": [
            "calculated 900 users\n"
          ],
          "name": "stdout"
        },
        {
          "output_type": "stream",
          "text": [
            "20000it [00:10, 1950.16it/s]\n"
          ],
          "name": "stderr"
        },
        {
          "output_type": "stream",
          "text": [
            "Processing algorithm useraverage\n",
            "calculated 0 users\n",
            "calculated 100 users\n",
            "calculated 200 users\n",
            "calculated 300 users\n",
            "calculated 400 users\n",
            "calculated 500 users\n",
            "calculated 600 users\n",
            "calculated 700 users\n",
            "calculated 800 users\n",
            "calculated 900 users\n"
          ],
          "name": "stdout"
        },
        {
          "output_type": "stream",
          "text": [
            "20000it [00:10, 1990.47it/s]\n"
          ],
          "name": "stderr"
        },
        {
          "output_type": "stream",
          "text": [
            "calculated 0 users\n",
            "calculated 100 users\n",
            "calculated 200 users\n",
            "calculated 300 users\n",
            "calculated 400 users\n",
            "calculated 500 users\n",
            "calculated 600 users\n",
            "calculated 700 users\n",
            "calculated 800 users\n",
            "calculated 900 users\n"
          ],
          "name": "stdout"
        },
        {
          "output_type": "stream",
          "text": [
            "20000it [00:10, 1994.27it/s]\n"
          ],
          "name": "stderr"
        },
        {
          "output_type": "stream",
          "text": [
            "calculated 0 users\n",
            "calculated 100 users\n",
            "calculated 200 users\n",
            "calculated 300 users\n",
            "calculated 400 users\n",
            "calculated 500 users\n",
            "calculated 600 users\n",
            "calculated 700 users\n",
            "calculated 800 users\n",
            "calculated 900 users\n"
          ],
          "name": "stdout"
        },
        {
          "output_type": "stream",
          "text": [
            "20000it [00:09, 2041.98it/s]\n"
          ],
          "name": "stderr"
        },
        {
          "output_type": "stream",
          "text": [
            "calculated 0 users\n",
            "calculated 100 users\n",
            "calculated 200 users\n",
            "calculated 300 users\n",
            "calculated 400 users\n",
            "calculated 500 users\n",
            "calculated 600 users\n",
            "calculated 700 users\n",
            "calculated 800 users\n",
            "calculated 900 users\n"
          ],
          "name": "stdout"
        },
        {
          "output_type": "stream",
          "text": [
            "20000it [00:09, 2049.82it/s]\n"
          ],
          "name": "stderr"
        },
        {
          "output_type": "stream",
          "text": [
            "calculated 0 users\n",
            "calculated 100 users\n",
            "calculated 200 users\n",
            "calculated 300 users\n",
            "calculated 400 users\n",
            "calculated 500 users\n",
            "calculated 600 users\n",
            "calculated 700 users\n",
            "calculated 800 users\n",
            "calculated 900 users\n"
          ],
          "name": "stdout"
        },
        {
          "output_type": "stream",
          "text": [
            "20000it [00:10, 1980.59it/s]\n"
          ],
          "name": "stderr"
        },
        {
          "output_type": "stream",
          "text": [
            "Processing algorithm user-cosine\n"
          ],
          "name": "stdout"
        },
        {
          "output_type": "stream",
          "text": [
            "20000it [00:10, 1976.09it/s]\n",
            "20000it [00:09, 2016.74it/s]\n",
            "20000it [00:09, 2005.27it/s]\n",
            "20000it [00:10, 1972.21it/s]\n",
            "20000it [00:10, 1992.01it/s]\n"
          ],
          "name": "stderr"
        },
        {
          "output_type": "stream",
          "text": [
            "Processing algorithm PMF\n"
          ],
          "name": "stdout"
        },
        {
          "output_type": "stream",
          "text": [
            "20000it [00:18, 1070.72it/s]\n",
            "20000it [00:18, 1081.65it/s]\n",
            "20000it [00:18, 1079.31it/s]\n",
            "20000it [00:18, 1090.35it/s]\n",
            "20000it [00:18, 1073.67it/s]\n"
          ],
          "name": "stderr"
        }
      ]
    },
    {
      "cell_type": "code",
      "metadata": {
        "id": "xTBXTv6tzdu4",
        "colab_type": "code",
        "outputId": "a19e8574-4b1c-4129-ed0b-3327acb046c4",
        "colab": {
          "base_uri": "https://localhost:8080/",
          "height": 680
        }
      },
      "source": [
        "results = [result_patk,result_ratk,result_rmse]\n",
        "metrics =[\"P@k\" , \"R@k\" , \"RMSE\"]\n",
        "for i in results:\n",
        "  print( '\\t \\t \\t \\t \\t \\t {}'.format(metrics.pop(0)))\n",
        "  print('________________________________________________________________________________________________________')\n",
        "  print('|Algorithm \\t|\\t\\t  Mean \\t\\t|\\t\\t\\t  CI \\t\\t \\t\\t|')\n",
        "  print('--------------------------------------------------------------------------------------------------------|')\n",
        "  for keys,values in i.items():\n",
        "    if keys != \"PMF\":\n",
        "      print('|{0} \\t|\\t {1} \\t|\\t ({2},{3}) \\t|'.format(keys, values[-3], values[-2],values[-1]))\n",
        "    else:\n",
        "      print('|{0} \\t\\t|\\t {1} \\t|\\t ({2},{3})\\t|'.format(keys, values[-3], values[-2],values[-1]))\n",
        "  print('--------------------------------------------------------------------------------------------------------')\n",
        "  print(\"\\n \\n\")\n"
      ],
      "execution_count": 0,
      "outputs": [
        {
          "output_type": "stream",
          "text": [
            "\t \t \t \t \t \t P@k\n",
            "________________________________________________________________________________________________________\n",
            "|Algorithm \t|\t\t  Mean \t\t|\t\t\t  CI \t\t \t\t|\n",
            "--------------------------------------------------------------------------------------------------------|\n",
            "|item-cosine \t|\t 0.5322163308589621 \t|\t (0.3837005215009889,0.6807321402169354) \t|\n",
            "|popularity \t|\t 0.5505832449628855 \t|\t (0.40544114481568705,0.6957253451100839) \t|\n",
            "|useraverage \t|\t 0.4736373276776259 \t|\t (0.3419993013451059,0.6052753540101459) \t|\n",
            "|user-cosine \t|\t 0.5558430540827157 \t|\t (0.40959849499983714,0.7020876131655943) \t|\n",
            "|PMF \t\t|\t 0.5444326617179229 \t|\t (0.4029983920049023,0.6858669314309436)\t|\n",
            "--------------------------------------------------------------------------------------------------------\n",
            "\n",
            " \n",
            "\n",
            "\t \t \t \t \t \t R@k\n",
            "________________________________________________________________________________________________________\n",
            "|Algorithm \t|\t\t  Mean \t\t|\t\t\t  CI \t\t \t\t|\n",
            "--------------------------------------------------------------------------------------------------------|\n",
            "|item-cosine \t|\t 0.4749711148590666 \t|\t (0.35357317503649865,0.5963690546816346) \t|\n",
            "|popularity \t|\t 0.4840758878843688 \t|\t (0.3671373629798323,0.6010144127889052) \t|\n",
            "|useraverage \t|\t 0.44132320502242983 \t|\t (0.32931026359142457,0.5533361464534351) \t|\n",
            "|user-cosine \t|\t 0.4862687235536437 \t|\t (0.3694473610987218,0.6030900860085656) \t|\n",
            "|PMF \t\t|\t 0.47453553561735307 \t|\t (0.357677328095996,0.5913937431387102)\t|\n",
            "--------------------------------------------------------------------------------------------------------\n",
            "\n",
            " \n",
            "\n",
            "\t \t \t \t \t \t RMSE\n",
            "________________________________________________________________________________________________________\n",
            "|Algorithm \t|\t\t  Mean \t\t|\t\t\t  CI \t\t \t\t|\n",
            "--------------------------------------------------------------------------------------------------------|\n",
            "|item-cosine \t|\t 1.020082900106248 \t|\t (1.0068242686250732,1.0333415315874226) \t|\n",
            "|popularity \t|\t 3.1590928909890112 \t|\t (3.139292746995387,3.1788930349826354) \t|\n",
            "|useraverage \t|\t 1.0437176561595025 \t|\t (1.0289303496379316,1.0585049626810734) \t|\n",
            "|user-cosine \t|\t 1.017354121469863 \t|\t (1.0090130800118484,1.0256951629278774) \t|\n",
            "|PMF \t\t|\t 0.9646909264070207 \t|\t (0.9439950379035629,0.9853868149104785)\t|\n",
            "--------------------------------------------------------------------------------------------------------\n",
            "\n",
            " \n",
            "\n"
          ],
          "name": "stdout"
        }
      ]
    },
    {
      "cell_type": "markdown",
      "metadata": {
        "id": "hog9QJpwu63n",
        "colab_type": "text"
      },
      "source": [
        " I think popularity recommendation system can not be evaluated by RMSE because RMSE calculates the root mean square of popularity percentage doesn't make sense as shown in above output."
      ]
    },
    {
      "cell_type": "markdown",
      "metadata": {
        "id": "Cuexej2KvQ7A",
        "colab_type": "text"
      },
      "source": [
        " For P@k and R@k : user cosine works the best because users cosine works on the correlation of rated users with other users and they are able to better generalise it better.\n",
        "\n",
        "for RMSE : PMF works better because of parameter learning due to gradient descent."
      ]
    },
    {
      "cell_type": "markdown",
      "metadata": {
        "id": "aiPNu9Vmwn2O",
        "colab_type": "text"
      },
      "source": [
        " Good performance on RMSE does not imply good performance on ranking metrics and vice versa because position information that measures the ranking performance are not taking into account. Moreover the uncertainity of the prediction in rating oriented recommender system brings instability in RMSE based loss function.\n",
        "\n",
        "*Cremonesi P, Koren Y, Turrin R. Performance of recommender algorithms on top-n recommendation tasks. In: Proceedings of the 4th ACM Conference on Recommender Systems. 2010, 39–46*\n",
        "\n"
      ]
    },
    {
      "cell_type": "markdown",
      "metadata": {
        "id": "dQjAnym1EfR2",
        "colab_type": "text"
      },
      "source": [
        "http://www.gregreda.com/2013/10/26/using-pandas-on-the-movielens-dataset/ took a little help from this"
      ]
    },
    {
      "cell_type": "code",
      "metadata": {
        "id": "F16agjyHzdu_",
        "colab_type": "code",
        "colab": {}
      },
      "source": [
        "colnames=['movieID', 'movieTitle', 'releaseDate']\n",
        "movies = pd.read_csv(os.path.join(MOVIELENS_DIR, 'u.item'), sep='|', names = colnames,usecols=range(3), encoding='latin-1')\n",
        "train_matrix = dataPreprocessor(rating_df, num_users, num_items)\n",
        "\n",
        "similarity_mat_item = SimBasedRecSys.cosine(train_matrix.T) # transpose because we are using item-item similarity\n"
      ],
      "execution_count": 0,
      "outputs": []
    },
    {
      "cell_type": "code",
      "metadata": {
        "id": "jDeslNy0BZ3F",
        "colab_type": "code",
        "colab": {}
      },
      "source": [
        "def similar(similarity_mat_item,ID,name,movies):\n",
        "  vector = similarity_mat_item[ID-1]\n",
        "  top5index = np.argsort(vector)[::-1][1:6]\n",
        "  toprecommend=[]\n",
        "  for i in top5index:\n",
        "    toprecommend.append(movies.loc[movies['movieID'] == i, 'movieTitle'].iloc[0])\n",
        "  print(\"Top 5 movies recommended by the item item cosine similarity for {} are:\\n\\n{} \\n\".format(name,toprecommend))"
      ],
      "execution_count": 0,
      "outputs": []
    },
    {
      "cell_type": "code",
      "metadata": {
        "id": "_NBZvJ4iDmte",
        "colab_type": "code",
        "outputId": "a2fb9ba1-4397-4ab7-feed-9367cc06c952",
        "colab": {
          "base_uri": "https://localhost:8080/",
          "height": 204
        }
      },
      "source": [
        "movies.head()"
      ],
      "execution_count": 0,
      "outputs": [
        {
          "output_type": "execute_result",
          "data": {
            "text/html": [
              "<div>\n",
              "<style scoped>\n",
              "    .dataframe tbody tr th:only-of-type {\n",
              "        vertical-align: middle;\n",
              "    }\n",
              "\n",
              "    .dataframe tbody tr th {\n",
              "        vertical-align: top;\n",
              "    }\n",
              "\n",
              "    .dataframe thead th {\n",
              "        text-align: right;\n",
              "    }\n",
              "</style>\n",
              "<table border=\"1\" class=\"dataframe\">\n",
              "  <thead>\n",
              "    <tr style=\"text-align: right;\">\n",
              "      <th></th>\n",
              "      <th>movieID</th>\n",
              "      <th>movieTitle</th>\n",
              "      <th>releaseDate</th>\n",
              "    </tr>\n",
              "  </thead>\n",
              "  <tbody>\n",
              "    <tr>\n",
              "      <th>0</th>\n",
              "      <td>1</td>\n",
              "      <td>Toy Story (1995)</td>\n",
              "      <td>01-Jan-1995</td>\n",
              "    </tr>\n",
              "    <tr>\n",
              "      <th>1</th>\n",
              "      <td>2</td>\n",
              "      <td>GoldenEye (1995)</td>\n",
              "      <td>01-Jan-1995</td>\n",
              "    </tr>\n",
              "    <tr>\n",
              "      <th>2</th>\n",
              "      <td>3</td>\n",
              "      <td>Four Rooms (1995)</td>\n",
              "      <td>01-Jan-1995</td>\n",
              "    </tr>\n",
              "    <tr>\n",
              "      <th>3</th>\n",
              "      <td>4</td>\n",
              "      <td>Get Shorty (1995)</td>\n",
              "      <td>01-Jan-1995</td>\n",
              "    </tr>\n",
              "    <tr>\n",
              "      <th>4</th>\n",
              "      <td>5</td>\n",
              "      <td>Copycat (1995)</td>\n",
              "      <td>01-Jan-1995</td>\n",
              "    </tr>\n",
              "  </tbody>\n",
              "</table>\n",
              "</div>"
            ],
            "text/plain": [
              "   movieID         movieTitle  releaseDate\n",
              "0        1   Toy Story (1995)  01-Jan-1995\n",
              "1        2   GoldenEye (1995)  01-Jan-1995\n",
              "2        3  Four Rooms (1995)  01-Jan-1995\n",
              "3        4  Get Shorty (1995)  01-Jan-1995\n",
              "4        5     Copycat (1995)  01-Jan-1995"
            ]
          },
          "metadata": {
            "tags": []
          },
          "execution_count": 61
        }
      ]
    },
    {
      "cell_type": "code",
      "metadata": {
        "id": "OclNOVPrBadh",
        "colab_type": "code",
        "outputId": "f40519f4-6ead-4dbc-d933-7e060384f59b",
        "colab": {
          "base_uri": "https://localhost:8080/",
          "height": 241
        }
      },
      "source": [
        "similar(similarity_mat_item,568,\"Speed (1994)\",movies)\n",
        "similar(similarity_mat_item,178,\"12 Angry Men (1957)\",movies)\n",
        "similar(similarity_mat_item,272,\"Good Will Hunting (1997)\",movies)"
      ],
      "execution_count": 0,
      "outputs": [
        {
          "output_type": "stream",
          "text": [
            "Top 5 movies recommended by the item item cosine similarity for Speed (1994) are:\n",
            "\n",
            "['Hudsucker Proxy, The (1994)', 'Naked Gun 33 1/3: The Final Insult (1994)', 'Glengarry Glen Ross (1992)', 'Free Willy (1993)', 'Aladdin (1992)'] \n",
            "\n",
            "Top 5 movies recommended by the item item cosine similarity for 12 Angry Men (1957) are:\n",
            "\n",
            "['Nikita (La Femme Nikita) (1990)', 'Dead Poets Society (1989)', 'Henry V (1989)', 'Indiana Jones and the Last Crusade (1989)', 'Vertigo (1958)'] \n",
            "\n",
            "Top 5 movies recommended by the item item cosine similarity for Good Will Hunting (1997) are:\n",
            "\n",
            "['3 Ninjas: High Noon At Mega Mountain (1998)', 'Midnight in the Garden of Good and Evil (1997)', 'Apt Pupil (1998)', 'Jackie Brown (1997)', 'Deceiver (1997)'] \n",
            "\n"
          ],
          "name": "stdout"
        }
      ]
    },
    {
      "cell_type": "markdown",
      "metadata": {
        "id": "d2j_LT_hpR6E",
        "colab_type": "text"
      },
      "source": [
        "The similarities can be justified from the results. \n",
        "\n",
        "Speed is an Action Movie and most of the recommendations like naked gun and free willy are of crime and adventure genre.\n",
        "\n",
        "12 Angry men is a drame movie based on the convition of a criminal. So,it is of  drama and action genre. As we can see from the recommendations: dead poet society , Indiana jones are from the same subsection of genre.\n",
        "\n",
        "Good will Hunting is an Indie drama movie based on a janitor working in MIT which has a genius level IQ. As it is clear from the recommendations such as Deceiver and Midnight in the garden of good and Evil, the movies are from similar genre"
      ]
    },
    {
      "cell_type": "code",
      "metadata": {
        "id": "NeUK2ZR5zdvM",
        "colab_type": "code",
        "colab": {}
      },
      "source": [
        "newmatrix=np.zeros(train_matrix.shape)\n",
        "newmatrix[train_matrix.nonzero()] = 1\n",
        "newmatrix = np.sum(newmatrix, axis= 1 ) \n",
        "hist , bin_edges = scipy.histogram(newmatrix)\n",
        "#got the highest value and just plotting the graph for further evaluation"
      ],
      "execution_count": 0,
      "outputs": []
    },
    {
      "cell_type": "code",
      "metadata": {
        "id": "i1Mpg7cFM0sE",
        "colab_type": "code",
        "outputId": "c6856f36-c230-49db-dd20-77151d72f6c9",
        "colab": {
          "base_uri": "https://localhost:8080/",
          "height": 333
        }
      },
      "source": [
        "plt.hist(newmatrix)"
      ],
      "execution_count": 0,
      "outputs": [
        {
          "output_type": "execute_result",
          "data": {
            "text/plain": [
              "(array([560., 183.,  96.,  55.,  25.,  15.,   5.,   1.,   1.,   2.]),\n",
              " array([ 20. ,  91.7, 163.4, 235.1, 306.8, 378.5, 450.2, 521.9, 593.6,\n",
              "        665.3, 737. ]),\n",
              " <a list of 10 Patch objects>)"
            ]
          },
          "metadata": {
            "tags": []
          },
          "execution_count": 64
        },
        {
          "output_type": "display_data",
          "data": {
            "image/png": "[encoded data removed]",
            "text/plain": [
              "<Figure size 432x288 with 1 Axes>"
            ]
          },
          "metadata": {
            "tags": []
          }
        }
      ]
    },
    {
      "cell_type": "markdown",
      "metadata": {
        "id": "GOlLS0_7PjVS",
        "colab_type": "text"
      },
      "source": [
        "threshold = 91 "
      ]
    },
    {
      "cell_type": "markdown",
      "metadata": {
        "id": "FcuVJUtBU6wY",
        "colab_type": "text"
      },
      "source": [
        "We had to insert it again because in the original one, it was making a train matrix again from the train_df"
      ]
    },
    {
      "cell_type": "code",
      "metadata": {
        "colab_type": "code",
        "id": "2nbDSe32U3f0",
        "colab": {}
      },
      "source": [
        "def cosinemetric(train_matrix,base):\n",
        "        \n",
        "        \n",
        "        \n",
        "        if base == 'user':\n",
        "            temp_matrix = np.zeros(train_matrix.shape)\n",
        "            temp_matrix[train_matrix.nonzero()] = 1\n",
        "            uu_similarity = 1 - pairwise_distances(train_matrix, metric='cosine')\n",
        "            normalizer = np.matmul(uu_similarity, temp_matrix)\n",
        "            normalizer[normalizer == 0] = 1e-5\n",
        "            \n",
        "            predictionMatrix = np.matmul(uu_similarity, train_matrix)/normalizer\n",
        "            \n",
        "            useraverage = np.sum(train_matrix, axis=1)/(np.sum(temp_matrix, axis=1) + 1e-5)\n",
        "            columns = np.sum(predictionMatrix, axis=0)\n",
        "            predictionMatrix[:, columns==0] = predictionMatrix[:, columns==0] + np.expand_dims(useraverage, axis=1)\n",
        "            return predictionMatrix\n",
        "            \n",
        "        elif base == 'item':\n",
        "            train_matrix=train_matrix.transpose()\n",
        "            temp_matrix = np.zeros(train_matrix.shape)\n",
        "            temp_matrix[train_matrix.nonzero()] = 1\n",
        "            item_similarity = 1 - pairwise_distances(train_matrix, metric='cosine')\n",
        "            normalizer = np.matmul(item_similarity, temp_matrix)\n",
        "            normalizer[normalizer == 0] = 1e-5\n",
        "            \n",
        "            predictionMatrix = np.matmul(item_similarity, train_matrix)/normalizer\n",
        "            \n",
        "            itemaverage = np.sum(train_matrix, axis=1)/(np.sum(temp_matrix, axis=1) + 1e-5)\n",
        "            columns = np.sum(predictionMatrix, axis=0)\n",
        "            predictionMatrix[:, columns==0] = predictionMatrix[:, columns==0] + np.expand_dims(itemaverage, axis=1)\n",
        "            return predictionMatrix.transpose()\n",
        "        else:\n",
        "            print('No other option available')\n",
        "\n",
        "def rmse(data ,pred):\n",
        "        \n",
        "        \n",
        "        return sqrt(mean_squared_error(data[pred], data['rating']))\n",
        "\n",
        "def evaluate_test(train_matrix, test_df ,base):\n",
        "        \n",
        "        copy=False\n",
        "        pred_column_name = base+'-'+\"cosine\"\n",
        "        if copy:\n",
        "            prediction = test_df.copy()\n",
        "        else:\n",
        "            prediction = test_df\n",
        "        prediction[pred_column_name] = np.nan\n",
        "        \n",
        "        for (index, \n",
        "             userID, \n",
        "             itemID) in tqdm(prediction[['userID','itemID']].itertuples()):\n",
        "            prediction.loc[index, pred_column_name] = cosinemetric(train_matrix,'user')[userID-1, itemID-1]\n",
        "    \n",
        "        return prediction,pred_column_name"
      ],
      "execution_count": 0,
      "outputs": []
    },
    {
      "cell_type": "code",
      "metadata": {
        "id": "UVOYiRPbP376",
        "colab_type": "code",
        "colab": {}
      },
      "source": [
        "def thresholdRMSE( train_df , test_df,num_users,num_items,processor):\n",
        "    train_matrix = processor(train_df, num_users, num_items)\n",
        "    test_matrix = processor(test_df , num_users,num_items)\n",
        "    threshold = 91\n",
        "    traindata_abovethreshold = train_matrix[newmatrix >= threshold]\n",
        "    traindata_belowthreshold = train_matrix[newmatrix < threshold]\n",
        "    #testdata_abovethreshold = test_matrix[newmatrix >= threshold]\n",
        "    #testdata_belowthreshold = test_matrix[newmatrix < threshold]\n",
        "    pred_user_abovethreshold,uacol = evaluate_test(traindata_abovethreshold,test_df,'user')\n",
        "    pred_user_belowthreshold,ubcol = evaluate_test(traindata_belowthreshold,test_df,'user')\n",
        "    pred_item_abovethreshold,iacol = evaluate_test(traindata_abovethreshold,test_df,'item')\n",
        "    pred_item_belowthreshold,ibcol = evaluate_test(traindata_belowthreshold,test_df,'item')\n",
        "    rmse_user_abovethreshold = rmse(pred_user_abovethreshold,uacol)\n",
        "    rmse_item_abovethreshold = rmse(pred_item_abovethreshold,iacol)\n",
        "    rmse_user_belowthreshold = rmse(pred_user_belowthreshold,ubcol)\n",
        "    rmse_item_belowthreshold = rmse(pred_item_belowthreshold,ibcol)\n",
        "    print(\"Rmse for training data above thresehold for user-user collaborative filtering: {} \\t|\\nRmse for training data below thresehold for user-user collaborative filtering: {} \\t|\\nRmse for training data above thresehold for item-item collaborative filtering: {} \\t|\\nRmse for training data below thresehold for item-item collaborative filtering: {} \\t|\\n \".format(rmse_user_abovethreshold , rmse_user_belowthreshold, rmse_item_abovethreshold, rmse_item_belowthreshold))\n",
        "    print(\"---------------------------------------------------------------------------------------------------------\")"
      ],
      "execution_count": 0,
      "outputs": []
    },
    {
      "cell_type": "code",
      "metadata": {
        "id": "FoTX8l2hEplA",
        "colab_type": "code",
        "outputId": "bf518b0b-47da-437f-bb72-8a67f4ad6d52",
        "colab": {
          "base_uri": "https://localhost:8080/",
          "height": 1000
        }
      },
      "source": [
        "\n",
        "for i in range(1,6):\n",
        "  thresholdRMSE(getData(MOVIELENS_DIR, 'u{}.base'.format(i)) ,getData(MOVIELENS_DIR, 'u{}.test'.format(i)),num_users,num_items,dataPreprocessor )"
      ],
      "execution_count": 0,
      "outputs": [
        {
          "output_type": "stream",
          "text": [
            "\n",
            "0it [00:00, ?it/s]\u001b[A\n",
            "2it [00:00, 12.40it/s]\u001b[A\n",
            "4it [00:00, 12.14it/s]\u001b[A\n",
            "6it [00:00, 11.95it/s]\u001b[A\n",
            "8it [00:00, 11.81it/s]\u001b[A\n",
            "10it [00:00, 11.65it/s]\u001b[A\n",
            "12it [00:01, 11.61it/s]\u001b[A\n",
            "14it [00:01, 11.57it/s]\u001b[A\n",
            "16it [00:01, 11.56it/s]\u001b[A\n",
            "18it [00:01, 11.56it/s]\u001b[A\n",
            "20it [00:01, 11.22it/s]\u001b[A\n",
            "22it [00:01, 11.46it/s]\u001b[A\n",
            "24it [00:02, 11.63it/s]\u001b[A\n",
            "26it [00:02, 11.48it/s]\u001b[A\n",
            "28it [00:02, 11.61it/s]\u001b[A\n",
            "30it [00:02, 11.37it/s]\u001b[A\n",
            "32it [00:02, 11.44it/s]\u001b[A\n",
            "8678it [12:20, 12.31it/s]\n",
            "36it [00:03, 11.42it/s]\u001b[A\n",
            "38it [00:03, 11.33it/s]\u001b[A\n",
            "40it [00:03, 11.36it/s]\u001b[A\n",
            "42it [00:03, 10.77it/s]\u001b[A\n",
            "44it [00:03, 10.84it/s]\u001b[A\n",
            "46it [00:04, 10.97it/s]\u001b[A\n",
            "48it [00:04, 10.90it/s]\u001b[A\n",
            "50it [00:04, 11.08it/s]\u001b[A\n",
            "52it [00:04, 11.14it/s]\u001b[A\n",
            "54it [00:04, 11.00it/s]\u001b[A\n",
            "56it [00:04, 10.90it/s]\u001b[A\n",
            "58it [00:05, 10.89it/s]\u001b[A\n",
            "60it [00:05, 10.86it/s]\u001b[A\n",
            "62it [00:05, 10.87it/s]\u001b[A\n",
            "64it [00:05, 10.93it/s]\u001b[A\n",
            "66it [00:05, 10.83it/s]\u001b[A\n",
            "68it [00:06, 10.83it/s]\u001b[A\n",
            "70it [00:06, 10.93it/s]\u001b[A\n",
            "72it [00:06, 10.92it/s]\u001b[A\n",
            "74it [00:06, 10.78it/s]\u001b[A\n",
            "76it [00:06, 10.59it/s]\u001b[A\n",
            "78it [00:07, 10.74it/s]\u001b[A\n",
            "80it [00:07, 10.91it/s]\u001b[A\n",
            "82it [00:07, 10.81it/s]\u001b[A\n",
            "84it [00:07, 10.61it/s]\u001b[A\n",
            "86it [00:07, 10.47it/s]\u001b[A\n",
            "88it [00:07, 10.41it/s]\u001b[A\n",
            "90it [00:08, 10.52it/s]\u001b[A\n",
            "92it [00:08, 10.57it/s]\u001b[A\n",
            "94it [00:08, 10.45it/s]\u001b[A\n",
            "96it [00:08, 10.70it/s]\u001b[A\n",
            "98it [00:08, 10.90it/s]\u001b[A\n",
            "100it [00:09, 11.19it/s]\u001b[A\n",
            "102it [00:09, 11.33it/s]\u001b[A\n",
            "104it [00:09, 11.15it/s]\u001b[A\n",
            "106it [00:09, 11.30it/s]\u001b[A\n",
            "108it [00:09, 11.35it/s]\u001b[A\n",
            "110it [00:09, 11.46it/s]\u001b[A\n",
            "112it [00:10, 11.31it/s]\u001b[A\n",
            "114it [00:10, 11.34it/s]\u001b[A\n",
            "116it [00:10, 11.46it/s]\u001b[A\n",
            "118it [00:10, 11.42it/s]\u001b[A\n",
            "120it [00:10, 11.47it/s]\u001b[A\n",
            "122it [00:10, 11.22it/s]\u001b[A\n",
            "124it [00:11, 11.13it/s]\u001b[A\n",
            "126it [00:11, 11.51it/s]\u001b[A\n",
            "128it [00:11, 11.49it/s]\u001b[A\n",
            "130it [00:11, 11.59it/s]\u001b[A\n",
            "132it [00:11, 11.58it/s]\u001b[A\n",
            "134it [00:12, 11.67it/s]\u001b[A\n",
            "136it [00:12, 11.60it/s]\u001b[A\n",
            "138it [00:12, 11.70it/s]\u001b[A\n",
            "140it [00:12, 11.34it/s]\u001b[A\n",
            "142it [00:12, 11.33it/s]\u001b[A\n",
            "144it [00:12, 11.31it/s]\u001b[A\n",
            "146it [00:13, 11.23it/s]\u001b[A\n",
            "148it [00:13, 11.38it/s]\u001b[A\n",
            "150it [00:13, 11.63it/s]\u001b[A\n",
            "152it [00:13, 11.36it/s]\u001b[A\n",
            "154it [00:13, 11.47it/s]\u001b[A\n",
            "156it [00:13, 10.63it/s]\u001b[A\n",
            "158it [00:14, 10.78it/s]\u001b[A\n",
            "160it [00:14, 10.92it/s]\u001b[A\n",
            "162it [00:14, 10.78it/s]\u001b[A\n",
            "164it [00:14, 10.95it/s]\u001b[A\n",
            "166it [00:14, 11.02it/s]\u001b[A\n",
            "168it [00:15, 10.92it/s]\u001b[A\n",
            "170it [00:15, 10.85it/s]\u001b[A\n",
            "172it [00:15, 10.63it/s]\u001b[A\n",
            "174it [00:15, 10.80it/s]\u001b[A\n",
            "176it [00:15, 10.84it/s]\u001b[A\n",
            "178it [00:16, 10.89it/s]\u001b[A\n",
            "180it [00:16, 10.97it/s]\u001b[A\n",
            "182it [00:16, 10.98it/s]\u001b[A\n",
            "184it [00:16, 11.06it/s]\u001b[A\n",
            "186it [00:16, 10.98it/s]\u001b[A\n",
            "188it [00:16, 10.96it/s]\u001b[A\n",
            "190it [00:17, 10.97it/s]\u001b[A\n",
            "192it [00:17, 10.92it/s]\u001b[A\n",
            "194it [00:17, 10.95it/s]\u001b[A\n",
            "196it [00:17, 10.65it/s]\u001b[A\n",
            "198it [00:17, 10.81it/s]\u001b[A\n",
            "200it [00:18, 10.90it/s]\u001b[A\n",
            "202it [00:18, 10.91it/s]\u001b[A\n",
            "204it [00:18, 10.99it/s]\u001b[A\n",
            "206it [00:18, 10.85it/s]\u001b[A\n",
            "208it [00:18, 10.93it/s]\u001b[A\n",
            "210it [00:18, 11.01it/s]\u001b[A\n",
            "212it [00:19, 10.98it/s]\u001b[A\n",
            "214it [00:19, 11.06it/s]\u001b[A\n",
            "216it [00:19, 10.90it/s]\u001b[A\n",
            "218it [00:19, 10.93it/s]\u001b[A\n",
            "220it [00:19, 11.01it/s]\u001b[A\n",
            "222it [00:20, 10.97it/s]\u001b[A\n",
            "224it [00:20, 11.00it/s]\u001b[A\n",
            "226it [00:20, 10.89it/s]\u001b[A\n",
            "228it [00:20, 10.97it/s]\u001b[A\n",
            "230it [00:20, 10.97it/s]\u001b[A\n",
            "232it [00:20, 11.00it/s]\u001b[A\n",
            "234it [00:21, 11.45it/s]\u001b[A\n",
            "236it [00:21, 11.53it/s]\u001b[A\n",
            "238it [00:21, 11.48it/s]\u001b[A\n",
            "240it [00:21, 11.35it/s]\u001b[A\n",
            "242it [00:21, 11.37it/s]\u001b[A\n",
            "244it [00:21, 11.30it/s]\u001b[A\n",
            "246it [00:22, 11.17it/s]\u001b[A\n",
            "248it [00:22, 11.24it/s]\u001b[A\n",
            "250it [00:22, 11.31it/s]\u001b[A\n",
            "252it [00:22, 11.42it/s]\u001b[A\n",
            "254it [00:22, 11.57it/s]\u001b[A\n",
            "256it [00:23, 11.74it/s]\u001b[A\n",
            "258it [00:23, 11.70it/s]\u001b[A\n",
            "260it [00:23, 11.49it/s]\u001b[A\n",
            "262it [00:23, 11.43it/s]\u001b[A\n",
            "264it [00:23, 11.60it/s]\u001b[A\n",
            "266it [00:23, 11.55it/s]\u001b[A\n",
            "268it [00:24, 11.56it/s]\u001b[A\n",
            "270it [00:24, 11.28it/s]\u001b[A\n",
            "272it [00:24, 10.82it/s]\u001b[A\n",
            "274it [00:24, 11.23it/s]\u001b[A\n",
            "276it [00:24, 11.39it/s]\u001b[A\n",
            "278it [00:24, 11.55it/s]\u001b[A\n",
            "280it [00:25, 11.53it/s]\u001b[A\n",
            "282it [00:25, 11.40it/s]\u001b[A\n",
            "284it [00:25, 11.48it/s]\u001b[A\n",
            "286it [00:25, 11.65it/s]\u001b[A\n",
            "288it [00:25, 11.73it/s]\u001b[A\n",
            "290it [00:25, 11.69it/s]\u001b[A\n",
            "292it [00:26, 11.53it/s]\u001b[A\n",
            "294it [00:26, 11.43it/s]\u001b[A\n",
            "296it [00:26, 11.60it/s]\u001b[A\n",
            "298it [00:26, 11.66it/s]\u001b[A\n",
            "300it [00:26, 11.31it/s]\u001b[A\n",
            "302it [00:27, 11.26it/s]\u001b[A\n",
            "304it [00:27, 11.53it/s]\u001b[A\n",
            "306it [00:27, 11.81it/s]\u001b[A\n",
            "308it [00:27, 11.84it/s]\u001b[A\n",
            "310it [00:27, 11.76it/s]\u001b[A\n",
            "312it [00:27, 11.32it/s]\u001b[A\n",
            "314it [00:28, 11.43it/s]\u001b[A\n",
            "316it [00:28, 11.74it/s]\u001b[A\n",
            "318it [00:28, 11.66it/s]\u001b[A\n",
            "320it [00:28, 11.56it/s]\u001b[A\n",
            "322it [00:28, 11.38it/s]\u001b[A\n",
            "324it [00:28, 11.34it/s]\u001b[A\n",
            "326it [00:29, 11.25it/s]\u001b[A\n",
            "328it [00:29, 11.32it/s]\u001b[A\n",
            "330it [00:29, 11.23it/s]\u001b[A\n",
            "332it [00:29, 11.29it/s]\u001b[A\n",
            "334it [00:29, 11.31it/s]\u001b[A\n",
            "336it [00:29, 11.37it/s]\u001b[A\n",
            "338it [00:30, 11.35it/s]\u001b[A\n",
            "340it [00:30, 11.39it/s]\u001b[A\n",
            "342it [00:30, 11.43it/s]\u001b[A\n",
            "344it [00:30, 11.47it/s]\u001b[A\n",
            "346it [00:30, 11.27it/s]\u001b[A\n",
            "348it [00:31, 11.33it/s]\u001b[A\n",
            "350it [00:31, 11.29it/s]\u001b[A\n",
            "352it [00:31, 11.21it/s]\u001b[A\n",
            "354it [00:31, 11.19it/s]\u001b[A\n",
            "356it [00:31, 11.24it/s]\u001b[A\n",
            "358it [00:31, 11.30it/s]\u001b[A\n",
            "360it [00:32, 11.49it/s]\u001b[A\n",
            "362it [00:32, 11.23it/s]\u001b[A\n",
            "364it [00:32, 11.29it/s]\u001b[A\n",
            "366it [00:32, 11.45it/s]\u001b[A\n",
            "368it [00:32, 11.58it/s]\u001b[A\n",
            "370it [00:32, 11.36it/s]\u001b[A\n",
            "372it [00:33, 11.41it/s]\u001b[A\n",
            "374it [00:33, 11.50it/s]\u001b[A\n",
            "376it [00:33, 11.45it/s]\u001b[A\n",
            "378it [00:33, 11.37it/s]\u001b[A\n",
            "380it [00:33, 11.21it/s]\u001b[A\n",
            "382it [00:34, 11.11it/s]\u001b[A\n",
            "384it [00:34, 11.24it/s]\u001b[A\n",
            "386it [00:34, 11.08it/s]\u001b[A\n",
            "388it [00:34, 10.51it/s]\u001b[A\n",
            "390it [00:34, 10.68it/s]\u001b[A\n",
            "392it [00:35, 10.72it/s]\u001b[A\n",
            "394it [00:35, 10.76it/s]\u001b[A\n",
            "396it [00:35, 10.75it/s]\u001b[A\n",
            "398it [00:35, 10.67it/s]\u001b[A\n",
            "400it [00:35, 10.81it/s]\u001b[A\n",
            "402it [00:35, 10.88it/s]\u001b[A\n",
            "404it [00:36, 10.74it/s]\u001b[A\n",
            "406it [00:36, 10.80it/s]\u001b[A\n",
            "408it [00:36, 10.84it/s]\u001b[A\n",
            "410it [00:36, 10.88it/s]\u001b[A\n",
            "412it [00:36, 11.01it/s]\u001b[A\n",
            "414it [00:37, 10.87it/s]\u001b[A\n",
            "416it [00:37, 11.31it/s]\u001b[A\n",
            "418it [00:37, 11.30it/s]\u001b[A\n",
            "420it [00:37, 11.19it/s]\u001b[A\n",
            "422it [00:37, 11.13it/s]\u001b[A\n",
            "424it [00:37, 11.35it/s]\u001b[A\n",
            "426it [00:38, 11.33it/s]\u001b[A\n",
            "428it [00:38, 11.16it/s]\u001b[A\n",
            "430it [00:38, 11.11it/s]\u001b[A\n",
            "432it [00:38, 11.31it/s]\u001b[A\n",
            "434it [00:38, 11.03it/s]\u001b[A\n",
            "436it [00:38, 11.00it/s]\u001b[A\n",
            "438it [00:39, 10.91it/s]\u001b[A\n",
            "440it [00:39, 10.95it/s]\u001b[A\n",
            "442it [00:39, 10.98it/s]\u001b[A\n",
            "444it [00:39, 10.97it/s]\u001b[A\n",
            "446it [00:39, 10.95it/s]\u001b[A\n",
            "448it [00:40, 11.23it/s]\u001b[A\n",
            "450it [00:40, 11.06it/s]\u001b[A\n",
            "452it [00:40, 10.94it/s]\u001b[A\n",
            "454it [00:40, 11.01it/s]\u001b[A\n",
            "456it [00:40, 10.98it/s]\u001b[A\n",
            "458it [00:41, 10.84it/s]\u001b[A\n",
            "460it [00:41, 10.90it/s]\u001b[A\n",
            "462it [00:41, 11.05it/s]\u001b[A\n",
            "464it [00:41, 10.93it/s]\u001b[A\n",
            "466it [00:41, 11.05it/s]\u001b[A\n",
            "468it [00:41, 10.92it/s]\u001b[A\n",
            "470it [00:42, 11.21it/s]\u001b[A\n",
            "472it [00:42, 11.15it/s]\u001b[A\n",
            "474it [00:42, 11.00it/s]\u001b[A\n",
            "476it [00:42, 10.99it/s]\u001b[A\n",
            "478it [00:42, 11.12it/s]\u001b[A\n",
            "480it [00:42, 11.16it/s]\u001b[A\n",
            "482it [00:43, 11.13it/s]\u001b[A\n",
            "484it [00:43, 11.12it/s]\u001b[A\n",
            "486it [00:43, 11.06it/s]\u001b[A\n",
            "488it [00:43, 11.42it/s]\u001b[A\n",
            "490it [00:43, 11.34it/s]\u001b[A\n",
            "492it [00:44, 11.23it/s]\u001b[A\n",
            "494it [00:44, 11.26it/s]\u001b[A\n",
            "496it [00:44, 11.31it/s]\u001b[A\n",
            "498it [00:44, 11.22it/s]\u001b[A\n",
            "500it [00:44, 10.50it/s]\u001b[A\n",
            "502it [00:44, 10.64it/s]\u001b[A\n",
            "504it [00:45, 10.81it/s]\u001b[A\n",
            "506it [00:45, 11.16it/s]\u001b[A\n",
            "508it [00:45, 11.20it/s]\u001b[A\n",
            "510it [00:45, 11.05it/s]\u001b[A\n",
            "512it [00:45, 11.38it/s]\u001b[A\n",
            "514it [00:46, 11.00it/s]\u001b[A\n",
            "516it [00:46, 11.08it/s]\u001b[A\n",
            "518it [00:46, 11.13it/s]\u001b[A\n",
            "520it [00:46, 11.18it/s]\u001b[A\n",
            "522it [00:46, 11.26it/s]\u001b[A\n",
            "524it [00:46, 11.10it/s]\u001b[A\n",
            "526it [00:47, 11.16it/s]\u001b[A\n",
            "528it [00:47, 11.09it/s]\u001b[A\n",
            "530it [00:47, 11.19it/s]\u001b[A\n",
            "532it [00:47, 10.72it/s]\u001b[A\n",
            "534it [00:47, 10.78it/s]\u001b[A\n",
            "536it [00:48, 10.92it/s]\u001b[A\n",
            "538it [00:48, 10.99it/s]\u001b[A\n",
            "540it [00:48, 10.85it/s]\u001b[A\n",
            "542it [00:48, 10.92it/s]\u001b[A\n",
            "544it [00:48, 10.95it/s]\u001b[A\n",
            "546it [00:48, 11.14it/s]\u001b[A\n",
            "548it [00:49, 10.85it/s]\u001b[A\n",
            "550it [00:49, 10.91it/s]\u001b[A\n",
            "552it [00:49, 10.97it/s]\u001b[A\n",
            "554it [00:49, 11.01it/s]\u001b[A\n",
            "556it [00:49, 11.01it/s]\u001b[A\n",
            "558it [00:50, 10.94it/s]\u001b[A\n",
            "560it [00:50, 10.76it/s]\u001b[A\n",
            "562it [00:50, 10.85it/s]\u001b[A\n",
            "564it [00:50, 10.75it/s]\u001b[A\n",
            "566it [00:50, 10.89it/s]\u001b[A\n",
            "568it [00:50, 10.77it/s]\u001b[A\n",
            "570it [00:51, 10.73it/s]\u001b[A\n",
            "572it [00:51, 10.68it/s]\u001b[A\n",
            "574it [00:51, 10.80it/s]\u001b[A\n",
            "576it [00:51, 10.76it/s]\u001b[A\n",
            "578it [00:51, 10.68it/s]\u001b[A\n",
            "580it [00:52, 10.84it/s]\u001b[A\n",
            "582it [00:52, 10.71it/s]\u001b[A\n",
            "584it [00:52, 10.65it/s]\u001b[A\n",
            "586it [00:52, 10.69it/s]\u001b[A\n",
            "588it [00:52, 10.75it/s]\u001b[A\n",
            "590it [00:53, 10.98it/s]\u001b[A\n",
            "592it [00:53, 10.97it/s]\u001b[A\n",
            "594it [00:53, 11.00it/s]\u001b[A\n",
            "596it [00:53, 10.94it/s]\u001b[A\n",
            "598it [00:53, 11.02it/s]\u001b[A\n",
            "600it [00:53, 10.92it/s]\u001b[A\n",
            "602it [00:54, 11.20it/s]\u001b[A\n",
            "604it [00:54, 11.12it/s]\u001b[A\n",
            "606it [00:54, 11.17it/s]\u001b[A\n",
            "608it [00:54, 11.31it/s]\u001b[A\n",
            "610it [00:54, 11.57it/s]\u001b[A\n",
            "612it [00:55, 10.84it/s]\u001b[A\n",
            "614it [00:55, 10.97it/s]\u001b[A\n",
            "616it [00:55, 11.08it/s]\u001b[A\n",
            "618it [00:55, 10.96it/s]\u001b[A\n",
            "620it [00:55, 10.62it/s]\u001b[A\n",
            "622it [00:55, 10.86it/s]\u001b[A\n",
            "624it [00:56, 10.84it/s]\u001b[A\n",
            "626it [00:56, 10.82it/s]\u001b[A\n",
            "628it [00:56, 10.60it/s]\u001b[A\n",
            "630it [00:56, 10.63it/s]\u001b[A\n",
            "632it [00:56, 10.57it/s]\u001b[A\n",
            "634it [00:57, 10.69it/s]\u001b[A\n",
            "636it [00:57, 10.69it/s]\u001b[A\n",
            "638it [00:57, 10.72it/s]\u001b[A\n",
            "640it [00:57, 10.74it/s]\u001b[A\n",
            "642it [00:57, 11.02it/s]\u001b[A\n",
            "644it [00:57, 11.12it/s]\u001b[A\n",
            "646it [00:58, 10.81it/s]\u001b[A\n",
            "648it [00:58, 10.84it/s]\u001b[A\n",
            "650it [00:58, 10.98it/s]\u001b[A\n",
            "652it [00:58, 10.88it/s]\u001b[A\n",
            "654it [00:58, 10.85it/s]\u001b[A\n",
            "656it [00:59, 10.65it/s]\u001b[A\n",
            "658it [00:59, 10.49it/s]\u001b[A\n",
            "660it [00:59, 10.51it/s]\u001b[A\n",
            "662it [00:59, 10.65it/s]\u001b[A\n",
            "664it [00:59, 10.59it/s]\u001b[A\n",
            "666it [01:00, 10.54it/s]\u001b[A\n",
            "668it [01:00, 10.51it/s]\u001b[A\n",
            "670it [01:00, 10.50it/s]\u001b[A\n",
            "672it [01:00, 10.62it/s]\u001b[A\n",
            "674it [01:00, 10.74it/s]\u001b[A\n",
            "676it [01:00, 10.66it/s]\u001b[A\n",
            "678it [01:01, 10.65it/s]\u001b[A\n",
            "680it [01:01, 10.84it/s]\u001b[A\n",
            "682it [01:01, 11.06it/s]\u001b[A\n",
            "684it [01:01, 10.95it/s]\u001b[A\n",
            "686it [01:01, 11.02it/s]\u001b[A\n",
            "688it [01:02, 11.17it/s]\u001b[A\n",
            "690it [01:02, 10.99it/s]\u001b[A\n",
            "692it [01:02, 11.13it/s]\u001b[A\n",
            "694it [01:02, 11.03it/s]\u001b[A\n",
            "696it [01:02, 10.99it/s]\u001b[A\n",
            "698it [01:02, 10.84it/s]\u001b[A\n",
            "700it [01:03, 10.80it/s]\u001b[A\n",
            "702it [01:03, 10.81it/s]\u001b[A\n",
            "704it [01:03, 10.67it/s]\u001b[A\n",
            "706it [01:03, 10.89it/s]\u001b[A\n",
            "708it [01:03, 10.97it/s]\u001b[A\n",
            "710it [01:04, 10.91it/s]\u001b[A\n",
            "712it [01:04, 10.83it/s]\u001b[A\n",
            "714it [01:04, 10.69it/s]\u001b[A\n",
            "716it [01:04, 10.73it/s]\u001b[A\n",
            "718it [01:04, 10.90it/s]\u001b[A\n",
            "720it [01:05, 10.97it/s]\u001b[A\n",
            "722it [01:05, 10.36it/s]\u001b[A\n",
            "724it [01:05, 10.55it/s]\u001b[A\n",
            "726it [01:05, 10.66it/s]\u001b[A\n",
            "728it [01:05, 10.50it/s]\u001b[A\n",
            "730it [01:05, 10.63it/s]\u001b[A\n",
            "732it [01:06, 10.65it/s]\u001b[A\n",
            "734it [01:06, 10.79it/s]\u001b[A\n",
            "736it [01:06, 10.67it/s]\u001b[A\n",
            "738it [01:06, 10.81it/s]\u001b[A\n",
            "740it [01:06, 10.98it/s]\u001b[A\n",
            "742it [01:07, 11.03it/s]\u001b[A\n",
            "744it [01:07, 10.95it/s]\u001b[A\n",
            "746it [01:07, 10.79it/s]\u001b[A\n",
            "748it [01:07, 10.79it/s]\u001b[A\n",
            "750it [01:07, 10.79it/s]\u001b[A\n",
            "752it [01:07, 10.74it/s]\u001b[A\n",
            "754it [01:08, 10.74it/s]\u001b[A\n",
            "756it [01:08, 10.64it/s]\u001b[A\n",
            "758it [01:08, 10.60it/s]\u001b[A\n",
            "760it [01:08, 10.75it/s]\u001b[A\n",
            "762it [01:08, 10.65it/s]\u001b[A\n",
            "764it [01:09, 10.80it/s]\u001b[A\n",
            "766it [01:09, 10.66it/s]\u001b[A\n",
            "768it [01:09, 10.45it/s]\u001b[A\n",
            "770it [01:09, 10.52it/s]\u001b[A\n",
            "772it [01:09, 10.65it/s]\u001b[A\n",
            "774it [01:10, 10.67it/s]\u001b[A\n",
            "776it [01:10, 10.55it/s]\u001b[A\n",
            "778it [01:10, 10.59it/s]\u001b[A\n",
            "780it [01:10, 10.70it/s]\u001b[A\n",
            "782it [01:10, 10.84it/s]\u001b[A\n",
            "784it [01:10, 11.07it/s]\u001b[A\n",
            "786it [01:11, 11.09it/s]\u001b[A\n",
            "788it [01:11, 10.95it/s]\u001b[A\n",
            "790it [01:11, 10.91it/s]\u001b[A\n",
            "792it [01:11, 10.84it/s]\u001b[A\n",
            "794it [01:11, 10.75it/s]\u001b[A\n",
            "796it [01:12, 10.75it/s]\u001b[A\n",
            "798it [01:12, 10.77it/s]\u001b[A\n",
            "800it [01:12, 10.78it/s]\u001b[A\n",
            "802it [01:12, 10.80it/s]\u001b[A\n",
            "804it [01:12, 10.65it/s]\u001b[A\n",
            "806it [01:13, 10.76it/s]\u001b[A\n",
            "808it [01:13, 10.88it/s]\u001b[A\n",
            "810it [01:13, 10.82it/s]\u001b[A\n",
            "812it [01:13, 10.81it/s]\u001b[A\n",
            "814it [01:13, 10.82it/s]\u001b[A\n",
            "816it [01:13, 10.93it/s]\u001b[A\n",
            "818it [01:14, 11.06it/s]\u001b[A\n",
            "820it [01:14, 11.11it/s]\u001b[A\n",
            "822it [01:14, 10.98it/s]\u001b[A\n",
            "824it [01:14, 10.86it/s]\u001b[A\n",
            "826it [01:14, 10.92it/s]\u001b[A\n",
            "828it [01:15, 10.96it/s]\u001b[A\n",
            "830it [01:15, 10.98it/s]\u001b[A\n",
            "832it [01:15, 10.28it/s]\u001b[A\n",
            "834it [01:15, 10.54it/s]\u001b[A\n",
            "836it [01:15, 10.78it/s]\u001b[A\n",
            "838it [01:15, 10.67it/s]\u001b[A\n",
            "840it [01:16, 10.60it/s]\u001b[A\n",
            "842it [01:16, 10.59it/s]\u001b[A\n",
            "844it [01:16, 10.71it/s]\u001b[A\n",
            "846it [01:16, 10.72it/s]\u001b[A\n",
            "848it [01:16, 10.67it/s]\u001b[A\n",
            "850it [01:17, 10.77it/s]\u001b[A\n",
            "852it [01:17, 10.84it/s]\u001b[A\n",
            "854it [01:17, 10.90it/s]\u001b[A\n",
            "856it [01:17, 10.84it/s]\u001b[A\n",
            "858it [01:17, 10.68it/s]\u001b[A\n",
            "860it [01:18, 10.84it/s]\u001b[A\n",
            "862it [01:18, 10.96it/s]\u001b[A\n",
            "864it [01:18, 11.05it/s]\u001b[A\n",
            "866it [01:18, 10.89it/s]\u001b[A\n",
            "868it [01:18, 10.82it/s]\u001b[A\n",
            "870it [01:18, 10.89it/s]\u001b[A\n",
            "872it [01:19, 10.93it/s]\u001b[A\n",
            "874it [01:19, 11.03it/s]\u001b[A\n",
            "876it [01:19, 11.05it/s]\u001b[A\n",
            "878it [01:19, 11.16it/s]\u001b[A\n",
            "880it [01:19, 10.93it/s]\u001b[A\n",
            "882it [01:20, 10.96it/s]\u001b[A\n",
            "884it [01:20, 11.00it/s]\u001b[A\n",
            "886it [01:20, 11.00it/s]\u001b[A\n",
            "888it [01:20, 10.79it/s]\u001b[A\n",
            "890it [01:20, 11.02it/s]\u001b[A\n",
            "892it [01:20, 10.97it/s]\u001b[A\n",
            "894it [01:21, 11.10it/s]\u001b[A\n",
            "896it [01:21, 11.21it/s]\u001b[A\n",
            "898it [01:21, 11.24it/s]\u001b[A\n",
            "900it [01:21, 10.99it/s]\u001b[A\n",
            "902it [01:21, 11.16it/s]\u001b[A\n",
            "904it [01:21, 11.21it/s]\u001b[A"
          ],
          "name": "stderr"
        }
      ]
    },
    {
      "cell_type": "markdown",
      "metadata": {
        "id": "roWnU_ZpOz_9",
        "colab_type": "text"
      },
      "source": [
        " Upper threshold works better for every different dataset and I think it is because users with more ratings show a better trend or behaviour and help in better correlation then users with less ratings."
      ]
    },
    {
      "cell_type": "code",
      "metadata": {
        "id": "ldve7N_0DRF4",
        "colab_type": "code",
        "colab": {}
      },
      "source": [
        ""
      ],
      "execution_count": 0,
      "outputs": []
    },
    {
      "cell_type": "code",
      "metadata": {
        "id": "y4G7eHRKe6Jq",
        "colab_type": "code",
        "colab": {}
      },
      "source": [
        ""
      ],
      "execution_count": 0,
      "outputs": []
    }
  ]
}